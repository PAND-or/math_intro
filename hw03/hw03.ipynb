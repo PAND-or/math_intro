{
 "cells": [
  {
   "cell_type": "code",
   "execution_count": 1,
   "metadata": {},
   "outputs": [],
   "source": [
    "import numpy as np\n",
    "\n",
    "def print_matrix(a):\n",
    "    max_len = max([len(str(e)) for r in a for e in r])\n",
    "    for row in a:\n",
    "        print(*'|', *list(map('{{:>{length}}}'.format(length=max_len+1).format, row)), '|')\n"
   ]
  },
  {
   "cell_type": "markdown",
   "metadata": {},
   "source": [
    "# Практическое задание №5\n",
    "\n",
    "### 5.1.\n",
    "Вектор – это частный случай матрицы 1хN и Nх1. Повторите материал для векторов, уделяя особое внимание умножению A∙B.  \n",
    "Вычислите, по возможности не используя программирование: (5Е)–1, где Е – единичная матрица размера 5х5.  "
   ]
  },
  {
   "cell_type": "code",
   "execution_count": 2,
   "metadata": {},
   "outputs": [
    {
     "name": "stdout",
     "output_type": "stream",
     "text": [
      "|  0.2  0.0  0.0  0.0  0.0 |\n",
      "|  0.0  0.2  0.0  0.0  0.0 |\n",
      "|  0.0  0.0  0.2  0.0  0.0 |\n",
      "|  0.0  0.0  0.0  0.2  0.0 |\n",
      "|  0.0  0.0  0.0  0.0  0.2 |\n"
     ]
    }
   ],
   "source": [
    "E = np.eye(5)\n",
    "Z = np.linalg.inv(5*E)\n",
    "print_matrix(Z)"
   ]
  },
  {
   "cell_type": "markdown",
   "metadata": {},
   "source": [
    "### 5.2.\n",
    "Вычислите определитель матрицы  \n",
    "\\begin{equation} \n",
    "\\begin{pmatrix}\n",
    "1 & 2 & 3\\\\\n",
    "4 & 0 & 6\\\\\n",
    "7 & 8 & 9\\\\\n",
    "\\end{pmatrix}\n",
    "\\end{equation}"
   ]
  },
  {
   "cell_type": "code",
   "execution_count": null,
   "metadata": {},
   "outputs": [],
   "source": [
    "\n"
   ]
  },
  {
   "cell_type": "code",
   "execution_count": 3,
   "metadata": {},
   "outputs": [
    {
     "name": "stdout",
     "output_type": "stream",
     "text": [
      "Определитель матрицы:\n",
      "|  1  2  3 |\n",
      "|  4  0  6 |\n",
      "|  7  8  9 |\n",
      "Равен:  60.0\n"
     ]
    }
   ],
   "source": [
    "A = np.array([\n",
    "    [1, 2, 3],\n",
    "    [4, 0, 6],\n",
    "    [7, 8, 9],\n",
    "])\n",
    "print(\"Определитель матрицы:\")\n",
    "print_matrix(A)\n",
    "print('Равен: ', round(np.linalg.det(A), 3))"
   ]
  },
  {
   "cell_type": "markdown",
   "metadata": {},
   "source": [
    "### 5.3. \n",
    "#### 1. Вычислите матрицу, обратную данной:  \n",
    "\\begin{equation} \n",
    "\\begin{pmatrix}\n",
    "1 & 2 & 3\\\\\n",
    "4 & 0 & 6\\\\\n",
    "7 & 8 & 9\\\\\n",
    "\\end{pmatrix}\n",
    "\\end{equation}"
   ]
  },
  {
   "cell_type": "code",
   "execution_count": 4,
   "metadata": {},
   "outputs": [
    {
     "name": "stdout",
     "output_type": "stream",
     "text": [
      "Ответ: \n",
      "[[-0.8         0.1         0.2       ]\n",
      " [ 0.1        -0.2         0.1       ]\n",
      " [ 0.53333333  0.1        -0.13333333]]\n"
     ]
    }
   ],
   "source": [
    "print('Ответ: ')\n",
    "print(np.linalg.inv(A))"
   ]
  },
  {
   "cell_type": "markdown",
   "metadata": {},
   "source": [
    "#### 2. Приведите пример матрицы 4х4, ранг которой равен 1.  "
   ]
  },
  {
   "cell_type": "code",
   "execution_count": 5,
   "metadata": {},
   "outputs": [
    {
     "name": "stdout",
     "output_type": "stream",
     "text": [
      "Матрица: \n",
      "|   1  -1   1  -1 |\n",
      "|  -1   1  -1   1 |\n",
      "|   1  -1   1  -1 |\n",
      "|  -1   1  -1   1 |\n",
      "Имеет ранг 1\n"
     ]
    }
   ],
   "source": [
    "С = np.array([\n",
    "    [1, -1, 1, -1],\n",
    "    [-1, 1, -1, 1],\n",
    "    [1, -1, 1, -1],\n",
    "    [-1, 1, -1, 1],\n",
    "])\n",
    "print('Матрица: ')\n",
    "print_matrix(С)\n",
    "print('Имеет ранг', np.linalg.matrix_rank(С))"
   ]
  },
  {
   "cell_type": "markdown",
   "metadata": {},
   "source": [
    "### 5.4\n",
    "Вычислите скалярное произведение двух векторов: "
   ]
  },
  {
   "cell_type": "code",
   "execution_count": 6,
   "metadata": {},
   "outputs": [
    {
     "name": "stdout",
     "output_type": "stream",
     "text": [
      "Ответ:  42\n"
     ]
    }
   ],
   "source": [
    "a = np.array([1, 5])\n",
    "b = np.array([2, 8])\n",
    "print('Ответ: ', np.dot(a, b))"
   ]
  },
  {
   "cell_type": "markdown",
   "metadata": {},
   "source": [
    "### 5.5\n",
    "Вычислите смешанное произведение трех векторов:  \n",
    "(1, 5, 0), (2, 8, 7) и (7, 1.5, 3) \n"
   ]
  },
  {
   "cell_type": "code",
   "execution_count": 7,
   "metadata": {},
   "outputs": [
    {
     "name": "stdout",
     "output_type": "stream",
     "text": [
      "Ответ:  74.0\n"
     ]
    }
   ],
   "source": [
    "a = np.array([1, 5, 0])\n",
    "b = np.array([2, 8, 7])\n",
    "c = np.array([7, 1.5, 3])\n",
    "\n",
    "print('Ответ: ', np.dot(a, (b * c)))"
   ]
  },
  {
   "cell_type": "markdown",
   "metadata": {},
   "source": [
    "# Практическое задание №6\n",
    "\n",
    "\n",
    "## 1. Решите линейную систему:\n",
    "\n",
    "\n"
   ]
  },
  {
   "cell_type": "markdown",
   "metadata": {},
   "source": [
    "\\begin{equation} \n",
    "\\begin{pmatrix}\n",
    "1 & 2 & 3\\\\\n",
    "4 & 0 & 6\\\\\n",
    "7 & 8 & 9\\\\\n",
    "\\end{pmatrix} \\cdot X = \n",
    "\\begin{pmatrix}\n",
    "12\\\\\n",
    "2\\\\\n",
    "1\\\\\n",
    "\\end{pmatrix}\n",
    "\\end{equation}"
   ]
  },
  {
   "cell_type": "markdown",
   "metadata": {},
   "source": [
    "Умножением матрицы на вектор будет вектор.  \n",
    "\\begin{equation} \n",
    "\\begin{pmatrix}\n",
    "a_{11} & a_{12}  & a_{13}\\\\\n",
    "a_{21} & a_{22} & a_{23}\\\\\n",
    "a_{31} & a_{32} & a_{33}\\\\\n",
    "\\end{pmatrix} \\cdot \\begin{pmatrix}\n",
    "x_1\\\\\n",
    "x_2\\\\\n",
    "x_3\\\\\n",
    "\\end{pmatrix} = \n",
    "\\begin{pmatrix}\n",
    "c_1\\\\\n",
    "c_2\\\\\n",
    "c_3\\\\\n",
    "\\end{pmatrix}\n",
    "\\end{equation}"
   ]
  },
  {
   "cell_type": "markdown",
   "metadata": {},
   "source": [
    "\\begin{equation} \n",
    "\\begin{pmatrix}\n",
    "a_{11} \\cdot x_1 & a_{12} \\cdot x_2 & a_{13} \\cdot x_3\\\\\n",
    "a_{21} \\cdot x_1 & a_{22} \\cdot x_2 & a_{23} \\cdot x_3\\\\\n",
    "a_{31} \\cdot x_1 & a_{32} \\cdot x_2 & a_{33} \\cdot x_3\\\\\n",
    "\\end{pmatrix} = \n",
    "\\begin{pmatrix}\n",
    "c_1\\\\\n",
    "c_2\\\\\n",
    "c_3\\\\\n",
    "\\end{pmatrix}\n",
    "\\end{equation}\n",
    "\n",
    "Или \n",
    "\\begin{equation} \n",
    "X = A^{-1} \\cdot B\n",
    "\\end{equation}"
   ]
  },
  {
   "cell_type": "code",
   "execution_count": 8,
   "metadata": {},
   "outputs": [
    {
     "name": "stdout",
     "output_type": "stream",
     "text": [
      "Ответ [-9.2         0.9         6.46666667]\n"
     ]
    }
   ],
   "source": [
    "A = np.array([\n",
    "    [1, 2, 3],\n",
    "    [4, 0, 6],\n",
    "    [7, 8, 9],\n",
    "])\n",
    "b = np.array([12, 2, 1])\n",
    "X1 = np.dot(np.linalg.inv(A), b) #Решение через обратную матрицу\n",
    "X2 = np.linalg.solve(A, b) #Решение численным методом\n",
    "\n",
    "#print(X1, X2)\n",
    "print('Ответ', X1)"
   ]
  },
  {
   "cell_type": "markdown",
   "metadata": {},
   "source": [
    "## 2. Найдите псевдорешение:\n",
    "x + 2y – z = 1  \n",
    "3x – 4y = 7  \n",
    "8x – 5y + 2z = 12  \n",
    "2x – 5z = 7  \n",
    "11x +4y – 7z = 15  \n",
    "\n"
   ]
  },
  {
   "cell_type": "code",
   "execution_count": 9,
   "metadata": {},
   "outputs": [
    {
     "name": "stdout",
     "output_type": "stream",
     "text": [
      "Ответ:  [ 1.13919353 -0.90498444 -0.9009803 ]\n"
     ]
    }
   ],
   "source": [
    "A = np.array([\n",
    "    [1, 2, -1],\n",
    "    [3, -4, 0],\n",
    "    [8, -5, 2],\n",
    "    [2, 0, -5],\n",
    "    [11, 4, -7],\n",
    "])\n",
    "b = np.array([1, 7, 12, 7, 15])\n",
    "X = np.dot(np.linalg.pinv(A), b)\n",
    "print('Ответ: ', X)\n",
    "\n"
   ]
  },
  {
   "cell_type": "code",
   "execution_count": 10,
   "metadata": {},
   "outputs": [
    {
     "name": "stdout",
     "output_type": "stream",
     "text": [
      "Проверка псевдорешения\n",
      "1 ~  0.23020494645464662\n",
      "7 ~  7.037518339240222\n",
      "12 ~  11.836509811711323\n",
      "7 ~  6.783288552480718\n",
      "15 ~  15.218053130652057\n"
     ]
    }
   ],
   "source": [
    "print('Проверка псевдорешения')\n",
    "print('1 ~ ', 1 * X[0] + 2 * X[1] - 1 * X[2])\n",
    "print('7 ~ ', 3 * X[0] - 4 * X[1] + 0 * X[2])\n",
    "print('12 ~ ', 8 * X[0] - 5 * X[1] + 2 * X[2])\n",
    "print('7 ~ ', 2 * X[0] + 0 * X[1] - 5 * X[2])\n",
    "print('15 ~ ', 11 * X[0] + 4 * X[1] - 7 * X[2])"
   ]
  },
  {
   "cell_type": "markdown",
   "metadata": {},
   "source": [
    "## 3. Сколько решений имеет линейная система:  \n",
    "Если ноль – то измените вектор правой части так, чтобы система стала совместной, и решите ее.  \n",
    "\n",
    "\\begin{equation} \n",
    "\\begin{pmatrix}\n",
    "1 & 2 & 3\\\\\n",
    "4 & 5 & 6\\\\\n",
    "7 & 8 & 9\\\\\n",
    "\\end{pmatrix} \\cdot X = \n",
    "\\begin{pmatrix}\n",
    "12\\\\\n",
    "2\\\\\n",
    "1\\\\\n",
    "\\end{pmatrix}\n",
    "\\end{equation}\n"
   ]
  },
  {
   "cell_type": "code",
   "execution_count": 11,
   "metadata": {},
   "outputs": [],
   "source": [
    "def solve_slau(A, b):\n",
    "    detA = round(np.linalg.det(A), 8)\n",
    "    #print(detA)\n",
    "    def _i_det(M, v, i):\n",
    "        Mi = M.copy()\n",
    "        Mi[:,i] = v\n",
    "        detMi = round(np.linalg.det(Mi), 8)\n",
    "        return detMi\n",
    "\n",
    "    detA1 = _i_det(A, b, 0)\n",
    "    detA2 = _i_det(A, b, 1)\n",
    "    detA3 = _i_det(A, b, 2)\n",
    "    \n",
    "    #print(detA1, detA2, detA3)\n",
    "    if detA != 0:\n",
    "        print('Система имеет одно решение')\n",
    "        return np.linalg.solve(A, b)\n",
    "    else:\n",
    "        if (detA1 == 0) & (detA2 == 0) & (detA3 == 0):\n",
    "            print('Система бесконечное число решений. Система совместна и неопределённа')\n",
    "            return np.linalg.solve(A, b)\n",
    "        else:\n",
    "            print('Система не имеет решений. Система несовместна')\n",
    "            return None\n",
    "        \n"
   ]
  },
  {
   "cell_type": "code",
   "execution_count": 12,
   "metadata": {},
   "outputs": [
    {
     "name": "stdout",
     "output_type": "stream",
     "text": [
      "Система не имеет решений. Система несовместна\n"
     ]
    }
   ],
   "source": [
    "A = np.array([\n",
    "    [1, 2, 3],\n",
    "    [4, 5, 6],\n",
    "    [7, 8, 9],\n",
    "])\n",
    "b = np.array([12, 2, 1])\n",
    "\n",
    "\n",
    "solve_slau(A, b)"
   ]
  },
  {
   "cell_type": "code",
   "execution_count": 13,
   "metadata": {},
   "outputs": [
    {
     "name": "stdout",
     "output_type": "stream",
     "text": [
      "Система бесконечное число решений. Система совместна и неопределённа\n"
     ]
    },
    {
     "data": {
      "text/plain": [
       "array([2., 0., 2.])"
      ]
     },
     "execution_count": 13,
     "metadata": {},
     "output_type": "execute_result"
    }
   ],
   "source": [
    "c = np.array([8, 20, 32])\n",
    "\n",
    "solve_slau(A, c)"
   ]
  },
  {
   "cell_type": "markdown",
   "metadata": {},
   "source": [
    "## 4. Вычислите LU-разложение матрицы:  \n",
    "После этого придумайте вектор правых частей и решите полученную линейную систему трех уравнений с данной матрицей.  \n",
    "\n",
    "\n",
    "\\begin{equation} \n",
    "\\begin{pmatrix}\n",
    "1 & 2 & 3\\\\\n",
    "2 & 16 & 21\\\\\n",
    "4 & 28 & 73\\\\\n",
    "\\end{pmatrix}\n",
    "\\end{equation}"
   ]
  },
  {
   "cell_type": "code",
   "execution_count": 14,
   "metadata": {},
   "outputs": [
    {
     "ename": "NameError",
     "evalue": "name 'p' is not defined",
     "output_type": "error",
     "traceback": [
      "\u001b[1;31m---------------------------------------------------------------------------\u001b[0m",
      "\u001b[1;31mNameError\u001b[0m                                 Traceback (most recent call last)",
      "\u001b[1;32m<ipython-input-14-37774a49549a>\u001b[0m in \u001b[0;36m<module>\u001b[1;34m\u001b[0m\n\u001b[0;32m      9\u001b[0m \u001b[0mP\u001b[0m\u001b[1;33m,\u001b[0m \u001b[0mL\u001b[0m\u001b[1;33m,\u001b[0m \u001b[0mU\u001b[0m \u001b[1;33m=\u001b[0m \u001b[0mlu\u001b[0m\u001b[1;33m(\u001b[0m\u001b[0mA\u001b[0m\u001b[1;33m)\u001b[0m\u001b[1;33m\u001b[0m\u001b[1;33m\u001b[0m\u001b[0m\n\u001b[0;32m     10\u001b[0m \u001b[1;33m\u001b[0m\u001b[0m\n\u001b[1;32m---> 11\u001b[1;33m \u001b[0mprint\u001b[0m\u001b[1;33m(\u001b[0m\u001b[1;34m'p:\\n'\u001b[0m\u001b[1;33m,\u001b[0m \u001b[0mp\u001b[0m\u001b[1;33m,\u001b[0m\u001b[1;34m'\\n\\nL:\\n'\u001b[0m\u001b[1;33m,\u001b[0m \u001b[0ml\u001b[0m\u001b[1;33m,\u001b[0m\u001b[1;34m'\\n\\nU:\\n'\u001b[0m\u001b[1;33m,\u001b[0m \u001b[0mu\u001b[0m\u001b[1;33m)\u001b[0m\u001b[1;33m\u001b[0m\u001b[1;33m\u001b[0m\u001b[0m\n\u001b[0m",
      "\u001b[1;31mNameError\u001b[0m: name 'p' is not defined"
     ]
    }
   ],
   "source": [
    "from scipy.linalg import lu\n",
    "\n",
    "\n",
    "A = np.array([\n",
    "    [1, 2, 3],\n",
    "    [2, 16, 21],\n",
    "    [4, 28, 73],\n",
    "])\n",
    "P, L, U = lu(A)\n",
    "\n",
    "print('p:\\n', p,'\\n\\nL:\\n', l,'\\n\\nU:\\n', u)"
   ]
  },
  {
   "cell_type": "code",
   "execution_count": null,
   "metadata": {},
   "outputs": [],
   "source": [
    "b = np.array([4, 5, 6])\n",
    "y = np.linalg.solve(L, b)\n",
    "X = np.linalg.solve(U, y)\n",
    "print(X)"
   ]
  },
  {
   "cell_type": "markdown",
   "metadata": {},
   "source": [
    "## 5. Найдите нормальное псевдорешение недоопределенной системы:  \n",
    "x + 2y – z = 1  \n",
    "8x – 5y + 2z = 12  \n",
    "Для этого определите функцию Q(x,y,z), равную норме решения, и найдите ее минимум.   "
   ]
  },
  {
   "cell_type": "code",
   "execution_count": null,
   "metadata": {},
   "outputs": [],
   "source": [
    "def Q(x, y, z):\n",
    "    return np.linalg.norm(np.array([x, y, z]))\n",
    "\n",
    "A = np.array([\n",
    "    [1, 2, -1],\n",
    "    [8, -5, 2],\n",
    "])\n",
    "B = np.array([1,12])\n",
    "\n",
    "print(Q(1, 2, -1))\n",
    "print(Q(8, -5, 2))\n",
    "\n",
    "#detA = np.linalg.det(A)\n",
    "print(np.linalg.lstsq(A,B))"
   ]
  },
  {
   "cell_type": "markdown",
   "metadata": {},
   "source": [
    "## 6. Найдите одно из псевдорешений вырожденной системы:  \n",
    "Попробуйте также отыскать и нормальное псевдорешение.\n",
    "\n",
    "\\begin{equation} \n",
    "\\begin{pmatrix}\n",
    "1 & 2 & 3\\\\\n",
    "4 & 5 & 6\\\\\n",
    "7 & 8 & 9\\\\\n",
    "\\end{pmatrix} \\cdot X = \n",
    "\\begin{pmatrix}\n",
    "2\\\\\n",
    "5\\\\\n",
    "11\\\\\n",
    "\\end{pmatrix}\n",
    "\\end{equation}"
   ]
  },
  {
   "cell_type": "code",
   "execution_count": null,
   "metadata": {},
   "outputs": [],
   "source": [
    "A = np.array([\n",
    "    [1, 2, 3],\n",
    "    [4, 5, 6],\n",
    "    [7, 8, 9],\n",
    "])\n",
    "B = np.array([2,5,11])\n",
    "\n",
    "print(np.linalg.lstsq(A,B))"
   ]
  },
  {
   "cell_type": "code",
   "execution_count": null,
   "metadata": {},
   "outputs": [],
   "source": []
  },
  {
   "cell_type": "code",
   "execution_count": null,
   "metadata": {},
   "outputs": [],
   "source": []
  }
 ],
 "metadata": {
  "kernelspec": {
   "display_name": "Python 3",
   "language": "python",
   "name": "python3"
  },
  "language_info": {
   "codemirror_mode": {
    "name": "ipython",
    "version": 3
   },
   "file_extension": ".py",
   "mimetype": "text/x-python",
   "name": "python",
   "nbconvert_exporter": "python",
   "pygments_lexer": "ipython3",
   "version": "3.7.2"
  }
 },
 "nbformat": 4,
 "nbformat_minor": 2
}
