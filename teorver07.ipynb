{
 "cells": [
  {
   "cell_type": "code",
   "execution_count": 1,
   "metadata": {},
   "outputs": [],
   "source": [
    "import numpy as np\n",
    "import pandas as pd\n",
    "import matplotlib.pyplot as plt\n",
    "import seaborn as sns\n",
    "from sklearn.linear_model import LinearRegression\n",
    "\n",
    "%matplotlib inline"
   ]
  },
  {
   "cell_type": "markdown",
   "metadata": {},
   "source": [
    "## Задание 1"
   ]
  },
  {
   "cell_type": "markdown",
   "metadata": {},
   "source": [
    "Даны значения величины заработной платы заемщиков банка (zp) и значения их поведенческого кредитного скоринга (ks):  \n",
    "zp = [35, 45, 190, 200, 40, 70, 54, 150, 120, 110],  \n",
    "ks = [401, 574, 874, 919, 459, 739, 653, 902, 746, 832].  \n",
    "Используя математические операции, посчитать коэффициенты линейной регрессии, приняв за X заработную плату (то есть, zp - признак), а за y - значения скорингового балла (то есть, ks - целевая переменная).  \n",
    "Произвести расчет как с использованием intercept, так и без.\n",
    "\n"
   ]
  },
  {
   "cell_type": "code",
   "execution_count": 2,
   "metadata": {},
   "outputs": [],
   "source": [
    "zp = np.array([35, 45, 190, 200, 40, 70, 54, 150, 120, 110])\n",
    "ks = np.array([401, 574, 874, 919, 459, 739, 653, 902, 746, 832])"
   ]
  },
  {
   "cell_type": "code",
   "execution_count": 3,
   "metadata": {},
   "outputs": [],
   "source": [
    "X = zp\n",
    "y = ks\n",
    "n = X.shape[0]"
   ]
  },
  {
   "cell_type": "code",
   "execution_count": 4,
   "metadata": {},
   "outputs": [],
   "source": [
    "def mse_(w0, w1, y=y, x=X, n=10):\n",
    "    return np.sum((w0 + w1*X - y)**2) / n"
   ]
  },
  {
   "cell_type": "code",
   "execution_count": 5,
   "metadata": {},
   "outputs": [],
   "source": [
    "def plot_(w0, w1, y=y, x=X):\n",
    "    y_pred = w0 + X*w1\n",
    "    plt.plot(X, y_pred)\n",
    "    plt.scatter(X, y)"
   ]
  },
  {
   "cell_type": "code",
   "execution_count": 6,
   "metadata": {},
   "outputs": [],
   "source": [
    "def show_(w0, w1, y=y, x=X, sep='\\n', pref=''):\n",
    "    print(f'{pref}{sep}w0: {round(w0, 4)}; {sep}w1: {round(w1, 4)}; {sep}mse: {round(mse_(w0,w1), 4)}')"
   ]
  },
  {
   "cell_type": "code",
   "execution_count": 7,
   "metadata": {},
   "outputs": [],
   "source": [
    "def result_(w0, w1, y=y, x=X, n=10):\n",
    "    show_(w0, w1, pref='Ответ')\n",
    "    plot_(w0, w1)\n",
    "    "
   ]
  },
  {
   "cell_type": "markdown",
   "metadata": {},
   "source": [
    "### Через Ковариацию"
   ]
  },
  {
   "cell_type": "code",
   "execution_count": 8,
   "metadata": {},
   "outputs": [],
   "source": [
    "b = (np.mean(X*y) - np.mean(X)*np.mean(y)) / (np.mean(X**2) - np.mean(X)**2)\n",
    "a = np.mean(y) - b * np.mean(X)"
   ]
  },
  {
   "cell_type": "code",
   "execution_count": 9,
   "metadata": {},
   "outputs": [
    {
     "name": "stdout",
     "output_type": "stream",
     "text": [
      "Ответ\n",
      "w0: 444.1774; \n",
      "w1: 2.6205; \n",
      "mse: 6470.4142\n"
     ]
    },
    {
     "data": {
      "image/png": "[encoded data removed]",
      "text/plain": [
       "<Figure size 432x288 with 1 Axes>"
      ]
     },
     "metadata": {
      "needs_background": "light"
     },
     "output_type": "display_data"
    }
   ],
   "source": [
    "result_(a,b)"
   ]
  },
  {
   "cell_type": "markdown",
   "metadata": {},
   "source": [
    "### Через матрицы без intercept"
   ]
  },
  {
   "cell_type": "markdown",
   "metadata": {},
   "source": [
    "$ W = (X \\cdot X^T)^{-1} \\cdot X \\cdot y^T$"
   ]
  },
  {
   "cell_type": "code",
   "execution_count": 10,
   "metadata": {},
   "outputs": [],
   "source": [
    "X_r = X.reshape((1,10)) \n",
    "y_r = y.reshape((1,10))"
   ]
  },
  {
   "cell_type": "code",
   "execution_count": 11,
   "metadata": {},
   "outputs": [],
   "source": [
    "W = np.linalg.inv(X_r @ X_r.T) @ X_r @ y_r.T\n",
    "w1 = W[0,0]"
   ]
  },
  {
   "cell_type": "code",
   "execution_count": 12,
   "metadata": {},
   "outputs": [
    {
     "name": "stdout",
     "output_type": "stream",
     "text": [
      "Ответ\n",
      "w0: 0; \n",
      "w1: 5.8898; \n",
      "mse: 56516.8584\n"
     ]
    },
    {
     "data": {
      "image/png": "[encoded data removed]",
      "text/plain": [
       "<Figure size 432x288 with 1 Axes>"
      ]
     },
     "metadata": {
      "needs_background": "light"
     },
     "output_type": "display_data"
    }
   ],
   "source": [
    "result_(0,w1)"
   ]
  },
  {
   "cell_type": "markdown",
   "metadata": {},
   "source": [
    "### Через матрицы с рассчетом intercept"
   ]
  },
  {
   "cell_type": "code",
   "execution_count": 13,
   "metadata": {},
   "outputs": [],
   "source": [
    "X_r = X.reshape((1,10)) \n",
    "X_r = np.vstack([np.ones((1,10)), X_r])"
   ]
  },
  {
   "cell_type": "code",
   "execution_count": 14,
   "metadata": {},
   "outputs": [],
   "source": [
    "W = np.linalg.inv(X_r @ X_r.T) @ X_r @ y_r.T\n",
    "w0 = W[0,0]\n",
    "w1 = W[1,0]"
   ]
  },
  {
   "cell_type": "code",
   "execution_count": 15,
   "metadata": {},
   "outputs": [
    {
     "name": "stdout",
     "output_type": "stream",
     "text": [
      "Ответ\n",
      "w0: 444.1774; \n",
      "w1: 2.6205; \n",
      "mse: 6470.4142\n"
     ]
    },
    {
     "data": {
      "image/png": "[encoded data removed]",
      "text/plain": [
       "<Figure size 432x288 with 1 Axes>"
      ]
     },
     "metadata": {
      "needs_background": "light"
     },
     "output_type": "display_data"
    }
   ],
   "source": [
    "result_(w0,w1)"
   ]
  },
  {
   "cell_type": "markdown",
   "metadata": {},
   "source": [
    "## Задание 2"
   ]
  },
  {
   "cell_type": "markdown",
   "metadata": {},
   "source": [
    "Посчитать коэффициент линейной регрессии при заработной плате (zp), используя градиентный спуск (без intercept).\n",
    "\n"
   ]
  },
  {
   "cell_type": "code",
   "execution_count": 16,
   "metadata": {},
   "outputs": [],
   "source": [
    "alpha = 3*1e-6"
   ]
  },
  {
   "cell_type": "code",
   "execution_count": 17,
   "metadata": {},
   "outputs": [],
   "source": [
    "w1 = 0.1"
   ]
  },
  {
   "cell_type": "code",
   "execution_count": 18,
   "metadata": {},
   "outputs": [
    {
     "name": "stdout",
     "output_type": "stream",
     "text": [
      "0\tw0: 0; \tw1: 0.5786; \tmse: 445144.1331\n",
      "100\tw0: 0; \tw1: 5.8889; \tmse: 56516.8709\n",
      "200\tw0: 0; \tw1: 5.8898; \tmse: 56516.8584\n",
      "300\tw0: 0; \tw1: 5.8898; \tmse: 56516.8584\n",
      "400\tw0: 0; \tw1: 5.8898; \tmse: 56516.8584\n",
      "500\tw0: 0; \tw1: 5.8898; \tmse: 56516.8584\n",
      "600\tw0: 0; \tw1: 5.8898; \tmse: 56516.8584\n",
      "700\tw0: 0; \tw1: 5.8898; \tmse: 56516.8584\n",
      "800\tw0: 0; \tw1: 5.8898; \tmse: 56516.8584\n",
      "900\tw0: 0; \tw1: 5.8898; \tmse: 56516.8584\n"
     ]
    }
   ],
   "source": [
    "for i in range(1000):\n",
    "    w1 -= alpha * (2/n) * np.sum((w1*X - y) * X)\n",
    "    if i%100 == 0:\n",
    "        show_(0, w1, sep='\\t', pref=i)"
   ]
  },
  {
   "cell_type": "code",
   "execution_count": 19,
   "metadata": {},
   "outputs": [
    {
     "name": "stdout",
     "output_type": "stream",
     "text": [
      "Ответ\n",
      "w0: 0; \n",
      "w1: 5.8898; \n",
      "mse: 56516.8584\n"
     ]
    },
    {
     "data": {
      "image/png": "[encoded data removed]",
      "text/plain": [
       "<Figure size 432x288 with 1 Axes>"
      ]
     },
     "metadata": {
      "needs_background": "light"
     },
     "output_type": "display_data"
    }
   ],
   "source": [
    "result_(0, w1)"
   ]
  },
  {
   "cell_type": "markdown",
   "metadata": {},
   "source": [
    "## Задание 3"
   ]
  },
  {
   "cell_type": "markdown",
   "metadata": {},
   "source": [
    "В каких случаях для вычисления доверительных интервалов и проверки статистических гипотез используется таблица значений функции Лапласа, а в каких - таблица критических точек распределения Стьюдента?\n",
    "\n"
   ]
  },
  {
   "cell_type": "markdown",
   "metadata": {},
   "source": [
    "Табличные значения функции Лапласа используются, когда известна дисперсия или сигма генеральной совокупности. \n",
    "Распределение Стьюдента используется для поиска истиных значений доверительного интервала генеральной совокупности.\n",
    "Коэффициент доверительного интервала (t-критерий) будет одинаковый и по таблице Стьюдента и по таблице Лапласа при числе степеней свободы стремящемся к бесконечности. Как правило в таблицах указывают одинаковые коэффициенты уже при значениях больших чем 300."
   ]
  },
  {
   "cell_type": "markdown",
   "metadata": {},
   "source": [
    "## Задание 4"
   ]
  },
  {
   "cell_type": "markdown",
   "metadata": {},
   "source": [
    "*4) Произвести вычисления как в пункте 2, но с вычислением intercept. Учесть, что изменение коэффициентов должно производиться\n",
    "на каждом шаге одновременно (то есть изменение одного коэффициента не должно влиять на изменение другого во время одной итерации)."
   ]
  },
  {
   "cell_type": "code",
   "execution_count": null,
   "metadata": {},
   "outputs": [],
   "source": []
  },
  {
   "cell_type": "code",
   "execution_count": 20,
   "metadata": {},
   "outputs": [],
   "source": [
    "w1 = 0.1\n",
    "w0 = 0.1"
   ]
  },
  {
   "cell_type": "code",
   "execution_count": 21,
   "metadata": {},
   "outputs": [],
   "source": [
    "def mse_(w0, w1, y=y, x=X, n=10):\n",
    "    return np.sum((w0 + w1*X - y)**2) / n"
   ]
  },
  {
   "cell_type": "markdown",
   "metadata": {},
   "source": [
    "f = (1/n) * np.sum((w0 + w1*X - y)**2)"
   ]
  },
  {
   "cell_type": "markdown",
   "metadata": {},
   "source": [
    "f_p = (2/n) * np.sum((w0 + w1*X - y) * X)"
   ]
  },
  {
   "cell_type": "code",
   "execution_count": 22,
   "metadata": {},
   "outputs": [
    {
     "name": "stdout",
     "output_type": "stream",
     "text": [
      "0\tw0: 1.0978; \tw1: 11.2528; \tmse: 453696.5545\n",
      "100000\tw0: 431.4639; \tw1: 2.7141; \tmse: 6511.4144\n",
      "200000\tw0: 443.8126; \tw1: 2.6232; \tmse: 6470.448\n",
      "300000\tw0: 444.1669; \tw1: 2.6206; \tmse: 6470.4142\n",
      "400000\tw0: 444.1771; \tw1: 2.6205; \tmse: 6470.4142\n",
      "500000\tw0: 444.1773; \tw1: 2.6205; \tmse: 6470.4142\n",
      "600000\tw0: 444.1774; \tw1: 2.6205; \tmse: 6470.4142\n",
      "700000\tw0: 444.1774; \tw1: 2.6205; \tmse: 6470.4142\n",
      "800000\tw0: 444.1774; \tw1: 2.6205; \tmse: 6470.4142\n",
      "900000\tw0: 444.1774; \tw1: 2.6205; \tmse: 6470.4142\n",
      "Ответ\n",
      "w0: 444.1774; \n",
      "w1: 2.6205; \n",
      "mse: 6470.4142\n"
     ]
    },
    {
     "data": {
      "image/png": "[encoded data removed]",
      "text/plain": [
       "<Figure size 432x288 with 1 Axes>"
      ]
     },
     "metadata": {
      "needs_background": "light"
     },
     "output_type": "display_data"
    }
   ],
   "source": [
    "\n",
    "def my_grad_funct(X, y, w, max_it, alpha):\n",
    "    for i in range(max_it):\n",
    "        y_pred = np.dot(X.T, w)\n",
    "        w[0] -= alpha * (2/n) * np.sum((y_pred - y) * X[0])\n",
    "        w[1] -= alpha * (2/n) * np.sum((y_pred - y) * X[1])\n",
    "        if i % (max_it / 10) == 0:\n",
    "            show_(w[0], w[1], sep='\\t', pref=i)\n",
    "    return w\n",
    "\n",
    "\n",
    "alpha = 7*10**(-5)\n",
    "X_r = X.reshape((1,10)) \n",
    "X_r = np.vstack([np.ones((1,10)), X_r])\n",
    "start_w = [1, 0.1]\n",
    "iteration = 1000000\n",
    "\n",
    "w = my_grad_funct(X_r, y, start_w, iteration, alpha)\n",
    "\n",
    "result_(w[0], w[1])"
   ]
  },
  {
   "cell_type": "code",
   "execution_count": 24,
   "metadata": {},
   "outputs": [
    {
     "name": "stdout",
     "output_type": "stream",
     "text": [
      "444.1773573243596 [2.62053888]\n",
      "Ответ\n",
      "w0: 444.1774; \n",
      "w1: 2.6205; \n",
      "mse: 6470.4142\n"
     ]
    },
    {
     "data": {
      "image/png": "[encoded data removed]",
      "text/plain": [
       "<Figure size 432x288 with 1 Axes>"
      ]
     },
     "metadata": {
      "needs_background": "light"
     },
     "output_type": "display_data"
    }
   ],
   "source": [
    "regressor = LinearRegression()\n",
    "regressor.fit(X.reshape((10,1)), y)\n",
    "print(regressor.intercept_, regressor.coef_)\n",
    "result_(regressor.intercept_, regressor.coef_[0])"
   ]
  }
 ],
 "metadata": {
  "kernelspec": {
   "display_name": "Python 3",
   "language": "python",
   "name": "python3"
  },
  "language_info": {
   "codemirror_mode": {
    "name": "ipython",
    "version": 3
   },
   "file_extension": ".py",
   "mimetype": "text/x-python",
   "name": "python",
   "nbconvert_exporter": "python",
   "pygments_lexer": "ipython3",
   "version": "3.7.3"
  }
 },
 "nbformat": 4,
 "nbformat_minor": 2
}
