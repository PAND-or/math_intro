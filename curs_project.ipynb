{
 "cells": [
  {
   "cell_type": "code",
   "execution_count": 1,
   "metadata": {},
   "outputs": [],
   "source": [
    "import pandas as pd\n",
    "import numpy as np\n",
    "import matplotlib.pyplot as plt\n",
    "from dateutil import parser\n",
    "\n",
    "%matplotlib inline\n",
    "plt.style.use('ggplot')\n",
    "plt.rcParams['figure.figsize'] = (10, 5)\n",
    "pd.set_option('display.max_columns', None)"
   ]
  },
  {
   "cell_type": "code",
   "execution_count": 2,
   "metadata": {},
   "outputs": [],
   "source": [
    "df = pd.read_csv('games-features.csv');"
   ]
  },
  {
   "cell_type": "code",
   "execution_count": 3,
   "metadata": {},
   "outputs": [],
   "source": [
    "df.drop(columns=['RequiredAge', 'PCReqsHaveMin', 'PCReqsHaveRec', 'LinuxReqsHaveMin', 'LinuxReqsHaveRec', \n",
    "                 'MacReqsHaveMin', 'MacReqsHaveRec', 'Website', 'PCMinReqsText', 'PCRecReqsText', \n",
    "                 'LinuxMinReqsText', 'LinuxRecReqsText', 'MacMinReqsText', 'MacRecReqsText',\n",
    "                'SupportEmail', 'SupportURL', 'AboutText', 'Background', 'ShortDescrip', \n",
    "                 'DetailedDescrip', 'DRMNotice', 'ExtUserAcctNotice', 'HeaderImage', 'LegalNotice', 'Reviews', 'DeveloperCount'],\n",
    "        inplace = True\n",
    "       );"
   ]
  },
  {
   "cell_type": "code",
   "execution_count": 4,
   "metadata": {},
   "outputs": [
    {
     "name": "stdout",
     "output_type": "stream",
     "text": [
      "<class 'pandas.core.frame.DataFrame'>\n",
      "RangeIndex: 13357 entries, 0 to 13356\n",
      "Data columns (total 52 columns):\n",
      "QueryID                        13357 non-null int64\n",
      "ResponseID                     13357 non-null int64\n",
      "QueryName                      13356 non-null object\n",
      "ResponseName                   13357 non-null object\n",
      "ReleaseDate                    13357 non-null object\n",
      "DemoCount                      13357 non-null int64\n",
      "DLCCount                       13357 non-null int64\n",
      "Metacritic                     13357 non-null int64\n",
      "MovieCount                     13357 non-null int64\n",
      "PackageCount                   13357 non-null int64\n",
      "RecommendationCount            13357 non-null int64\n",
      "PublisherCount                 13357 non-null int64\n",
      "ScreenshotCount                13357 non-null int64\n",
      "SteamSpyOwners                 13357 non-null int64\n",
      "SteamSpyOwnersVariance         13357 non-null int64\n",
      "SteamSpyPlayersEstimate        13357 non-null int64\n",
      "SteamSpyPlayersVariance        13357 non-null int64\n",
      "AchievementCount               13357 non-null int64\n",
      "AchievementHighlightedCount    13357 non-null int64\n",
      "ControllerSupport              13357 non-null bool\n",
      "IsFree                         13357 non-null bool\n",
      "FreeVerAvail                   13357 non-null bool\n",
      "PurchaseAvail                  13357 non-null bool\n",
      "SubscriptionAvail              13357 non-null bool\n",
      "PlatformWindows                13357 non-null bool\n",
      "PlatformLinux                  13357 non-null bool\n",
      "PlatformMac                    13357 non-null bool\n",
      "CategorySinglePlayer           13357 non-null bool\n",
      "CategoryMultiplayer            13357 non-null bool\n",
      "CategoryCoop                   13357 non-null bool\n",
      "CategoryMMO                    13357 non-null bool\n",
      "CategoryInAppPurchase          13357 non-null bool\n",
      "CategoryIncludeSrcSDK          13357 non-null bool\n",
      "CategoryIncludeLevelEditor     13357 non-null bool\n",
      "CategoryVRSupport              13357 non-null bool\n",
      "GenreIsNonGame                 13357 non-null bool\n",
      "GenreIsIndie                   13357 non-null bool\n",
      "GenreIsAction                  13357 non-null bool\n",
      "GenreIsAdventure               13357 non-null bool\n",
      "GenreIsCasual                  13357 non-null bool\n",
      "GenreIsStrategy                13357 non-null bool\n",
      "GenreIsRPG                     13357 non-null bool\n",
      "GenreIsSimulation              13357 non-null bool\n",
      "GenreIsEarlyAccess             13357 non-null bool\n",
      "GenreIsFreeToPlay              13357 non-null bool\n",
      "GenreIsSports                  13357 non-null bool\n",
      "GenreIsRacing                  13357 non-null bool\n",
      "GenreIsMassivelyMultiplayer    13357 non-null bool\n",
      "PriceCurrency                  13357 non-null object\n",
      "PriceInitial                   13357 non-null float64\n",
      "PriceFinal                     13357 non-null float64\n",
      "SupportedLanguages             13357 non-null object\n",
      "dtypes: bool(29), float64(2), int64(16), object(5)\n",
      "memory usage: 2.7+ MB\n"
     ]
    }
   ],
   "source": [
    "df.info()"
   ]
  },
  {
   "cell_type": "code",
   "execution_count": 5,
   "metadata": {},
   "outputs": [],
   "source": [
    "df['Relised'] = True"
   ]
  },
  {
   "cell_type": "code",
   "execution_count": 6,
   "metadata": {},
   "outputs": [],
   "source": [
    "df['ReleaseDateStr'] = df['ReleaseDate']"
   ]
  },
  {
   "cell_type": "code",
   "execution_count": 7,
   "metadata": {},
   "outputs": [],
   "source": [
    "def conert_str_to_date(df, key):\n",
    "    years_ = ['2016', '2017', '2019',]\n",
    "    soon_ = 'skoro|someday|20XX|coming|announced|soon|tba|tbc|tbd|early|-|breve'\n",
    "    periods_ = {\n",
    "        'q1|Q1': 'Feb',\n",
    "        'q2|q 2 ': 'May',\n",
    "        'q3': 'Aug',\n",
    "        'q4': 'Nov',\n",
    "        'mid': 'Jul',\n",
    "        'fall|autumn|utumn': 'Oct',\n",
    "        'end': 'Dec',\n",
    "        'spring': 'Apr',\n",
    "        'winter': 'Dec',\n",
    "        'summer': 'Jul',\n",
    "        'january': 'Jan', \n",
    "        'february': 'Feb',\n",
    "        'march': 'Mar',\n",
    "        'april': 'Apr',\n",
    "        #'may': 'May',\n",
    "        'june': 'Jun',\n",
    "        'july': 'Jul',\n",
    "        'august': 'Aug',\n",
    "        'september': 'Sep',\n",
    "        'october': 'Oct',\n",
    "        'november': 'Nov',\n",
    "        'december': 'Dec'\n",
    "    }\n",
    "    \n",
    "    for period_, month_ in periods_.items():\n",
    "        for year_ in years_:\n",
    "            df.loc[(df[key].str.contains(period_, case=False)) & (df[key].str.contains(year_)), [key, 'Relised']] = month_ + ' ' + year_, False\n",
    "        df.loc[(df[key].str.contains(period_, case=False)), [key, 'Relised']] = month_ + ' 2017', False\n",
    "    for year_ in years_:\n",
    "        df.loc[((df[key].str.len() != 8) & (df[key].str.len() != 10) & (df[key].str.len() != 11)) & (df[key].str.contains(year_)), [key, 'Relised']] = year_, False\n",
    "    df.loc[df[key].str.contains(soon_, case=False), [key, 'Relised']] = '2017', False\n",
    "    df.loc[(df[key].str.len() != 4) & (df[key].str.len() != 8) & (df[key].str.len() != 10) & (df[key].str.len() != 11), [key]] = '2017'"
   ]
  },
  {
   "cell_type": "code",
   "execution_count": 8,
   "metadata": {},
   "outputs": [],
   "source": [
    "conert_str_to_date(df, 'ReleaseDate')"
   ]
  },
  {
   "cell_type": "code",
   "execution_count": 9,
   "metadata": {},
   "outputs": [],
   "source": [
    "df['ReleaseDate'] = pd.to_datetime(df['ReleaseDate'])"
   ]
  },
  {
   "cell_type": "code",
   "execution_count": 10,
   "metadata": {},
   "outputs": [],
   "source": [
    "df[\"ReleaseDate\"] = df[\"ReleaseDate\"].astype(\"datetime64\")"
   ]
  },
  {
   "cell_type": "code",
   "execution_count": 11,
   "metadata": {},
   "outputs": [],
   "source": [
    "df[\"ReleaseYear\"] = df[\"ReleaseDate\"].dt.year\n",
    "df[\"ReleaseMonth\"] = df[\"ReleaseDate\"].dt.month\n",
    "df[\"ReleaseDay\"] = df[\"ReleaseDate\"].dt.day"
   ]
  },
  {
   "cell_type": "code",
   "execution_count": 12,
   "metadata": {},
   "outputs": [
    {
     "data": {
      "text/plain": [
       "601"
      ]
     },
     "execution_count": 12,
     "metadata": {},
     "output_type": "execute_result"
    }
   ],
   "source": [
    "df.loc[(df['Relised'] == False)]['QueryID'].count()"
   ]
  },
  {
   "cell_type": "code",
   "execution_count": 13,
   "metadata": {},
   "outputs": [
    {
     "data": {
      "text/plain": [
       "319"
      ]
     },
     "execution_count": 13,
     "metadata": {},
     "output_type": "execute_result"
    }
   ],
   "source": [
    "df.loc[(df['GenreIsNonGame'] == True)]['QueryID'].count()"
   ]
  },
  {
   "cell_type": "markdown",
   "metadata": {},
   "source": [
    "### Исключить из списка не игры, а так же не вышедшие или в раннем доступе, по стостянию на 2016 год"
   ]
  },
  {
   "cell_type": "code",
   "execution_count": 14,
   "metadata": {},
   "outputs": [
    {
     "data": {
      "text/plain": [
       "13357"
      ]
     },
     "execution_count": 14,
     "metadata": {},
     "output_type": "execute_result"
    }
   ],
   "source": [
    "df['QueryID'].count()"
   ]
  },
  {
   "cell_type": "code",
   "execution_count": 15,
   "metadata": {
    "scrolled": true
   },
   "outputs": [],
   "source": [
    "df = df.loc[\n",
    "    (df['Relised'] == True) & \n",
    "    (df['GenreIsNonGame'] == False) & \n",
    "    (\n",
    "        (df['GenreIsEarlyAccess'] == False) | \n",
    "        (\n",
    "            (df['GenreIsEarlyAccess'] == True) & (df['SteamSpyOwners'] > 0)\n",
    "        )\n",
    "    )]"
   ]
  },
  {
   "cell_type": "code",
   "execution_count": 16,
   "metadata": {},
   "outputs": [
    {
     "data": {
      "text/plain": [
       "12099"
      ]
     },
     "execution_count": 16,
     "metadata": {},
     "output_type": "execute_result"
    }
   ],
   "source": [
    "df['QueryID'].count()"
   ]
  },
  {
   "cell_type": "markdown",
   "metadata": {},
   "source": [
    "### Удалить дубликаты"
   ]
  },
  {
   "cell_type": "code",
   "execution_count": 17,
   "metadata": {},
   "outputs": [],
   "source": [
    "df.drop_duplicates(subset='ResponseID', keep=\"first\", inplace=True);"
   ]
  },
  {
   "cell_type": "code",
   "execution_count": 18,
   "metadata": {},
   "outputs": [
    {
     "data": {
      "text/plain": [
       "11951"
      ]
     },
     "execution_count": 18,
     "metadata": {},
     "output_type": "execute_result"
    }
   ],
   "source": [
    "df['QueryID'].count()"
   ]
  },
  {
   "cell_type": "markdown",
   "metadata": {},
   "source": [
    "## Рассчет потенциальной выручки (без учета скидок и распродаж и региональных цен) по состоянию на 2016 год"
   ]
  },
  {
   "cell_type": "code",
   "execution_count": 19,
   "metadata": {},
   "outputs": [],
   "source": [
    "df['PotentialRevenue'] = df['PriceFinal'] * df['SteamSpyOwners']"
   ]
  },
  {
   "cell_type": "markdown",
   "metadata": {},
   "source": [
    "### Рост кол-ва игр на Steam по состоянию на 2016 год"
   ]
  },
  {
   "cell_type": "code",
   "execution_count": 20,
   "metadata": {},
   "outputs": [
    {
     "data": {
      "text/plain": [
       "<matplotlib.axes._subplots.AxesSubplot at 0x1bf63643ac8>"
      ]
     },
     "execution_count": 20,
     "metadata": {},
     "output_type": "execute_result"
    },
    {
     "data": {
      "image/png": "[encoded data removed]",
      "text/plain": [
       "<Figure size 432x288 with 1 Axes>"
      ]
     },
     "metadata": {
      "needs_background": "light"
     },
     "output_type": "display_data"
    }
   ],
   "source": [
    "df.groupby(df[\"ReleaseYear\"])['QueryID'].count().plot(kind=\"bar\")"
   ]
  },
  {
   "cell_type": "markdown",
   "metadata": {},
   "source": [
    "### Периодичность по месяцам"
   ]
  },
  {
   "cell_type": "code",
   "execution_count": 21,
   "metadata": {},
   "outputs": [
    {
     "data": {
      "text/plain": [
       "<matplotlib.axes._subplots.AxesSubplot at 0x1bf61e4c978>"
      ]
     },
     "execution_count": 21,
     "metadata": {},
     "output_type": "execute_result"
    },
    {
     "data": {
      "image/png": "[encoded data removed]",
      "text/plain": [
       "<Figure size 432x288 with 1 Axes>"
      ]
     },
     "metadata": {
      "needs_background": "light"
     },
     "output_type": "display_data"
    }
   ],
   "source": [
    "df.groupby(df[\"ReleaseMonth\"])['QueryID'].count().plot(kind=\"bar\")"
   ]
  },
  {
   "cell_type": "code",
   "execution_count": 22,
   "metadata": {},
   "outputs": [],
   "source": [
    "genres_list = [\n",
    "    'GenreIsIndie',\n",
    "    'GenreIsAction',\n",
    "    'GenreIsAdventure',\n",
    "    'GenreIsCasual',\n",
    "    'GenreIsStrategy',\n",
    "    'GenreIsRPG',\n",
    "    'GenreIsSimulation',\n",
    "    #'GenreIsEarlyAccess'\n",
    "    #'GenreIsFreeToPlay',\n",
    "    'GenreIsSports',\n",
    "    'GenreIsRacing',\n",
    "    'GenreIsMassivelyMultiplayer',\n",
    "]\n",
    "genres_dicts = []\n",
    "for g in genres_list: \n",
    "    lst = np.array(df.loc[(df[g] == True) & (df['PotentialRevenue'] > 0), 'PotentialRevenue'])\n",
    "    genres_dicts.append({\n",
    "        'name': g,\n",
    "        'lst': lst,\n",
    "        'n': len(lst),\n",
    "        'mean': lst.mean()\n",
    "    })\n",
    "#print(genres_dicts)  "
   ]
  },
  {
   "cell_type": "markdown",
   "metadata": {},
   "source": [
    "## Дисперсионный анализ влияние жанра на потенциальную выручку"
   ]
  },
  {
   "cell_type": "markdown",
   "metadata": {},
   "source": [
    "Влияет ли выбор жанра игры на потенциальную выручку?"
   ]
  },
  {
   "cell_type": "markdown",
   "metadata": {},
   "source": [
    "Влияет ли фактор \"жанр\", на состояние потенциальной выручки"
   ]
  },
  {
   "cell_type": "code",
   "execution_count": 23,
   "metadata": {},
   "outputs": [],
   "source": [
    "all_lst = np.array([])\n",
    "for g in genres_dicts:\n",
    "    all_lst = np.concatenate([all_lst, g['lst']])"
   ]
  },
  {
   "cell_type": "code",
   "execution_count": 24,
   "metadata": {},
   "outputs": [
    {
     "name": "stdout",
     "output_type": "stream",
     "text": [
      "10 21359\n"
     ]
    }
   ],
   "source": [
    "k = len(genres_dicts)\n",
    "n = len(all_lst)\n",
    "print(k, n)"
   ]
  },
  {
   "cell_type": "code",
   "execution_count": 25,
   "metadata": {},
   "outputs": [
    {
     "data": {
      "text/plain": [
       "2050999.9528166112"
      ]
     },
     "execution_count": 25,
     "metadata": {},
     "output_type": "execute_result"
    }
   ],
   "source": [
    "all_mean = all_lst.mean()\n",
    "all_mean"
   ]
  },
  {
   "cell_type": "code",
   "execution_count": 26,
   "metadata": {},
   "outputs": [
    {
     "data": {
      "text/plain": [
       "2.394983759287706e+18"
      ]
     },
     "execution_count": 26,
     "metadata": {},
     "output_type": "execute_result"
    }
   ],
   "source": [
    "s2 = np.sum((all_lst - all_mean)**2)\n",
    "s2"
   ]
  },
  {
   "cell_type": "code",
   "execution_count": 27,
   "metadata": {},
   "outputs": [
    {
     "name": "stdout",
     "output_type": "stream",
     "text": [
      "2.6226712180297964e+16\n"
     ]
    }
   ],
   "source": [
    "s2_f = 0\n",
    "for g in genres_dicts:\n",
    "    s2_f += ((g['mean'] - all_mean)**2) * g['n']\n",
    "print(s2_f)"
   ]
  },
  {
   "cell_type": "code",
   "execution_count": 28,
   "metadata": {},
   "outputs": [
    {
     "data": {
      "text/plain": [
       "2.3687570471074074e+18"
      ]
     },
     "execution_count": 28,
     "metadata": {},
     "output_type": "execute_result"
    }
   ],
   "source": [
    "s2_residual = 0\n",
    "for g in genres_dicts:\n",
    "    s2_residual += np.sum((g['lst'] - g['mean'])**2)\n",
    "s2_residual"
   ]
  },
  {
   "cell_type": "code",
   "execution_count": 29,
   "metadata": {},
   "outputs": [
    {
     "name": "stdout",
     "output_type": "stream",
     "text": [
      "2.394983759287706e+18\n",
      "2.394983759287705e+18\n"
     ]
    }
   ],
   "source": [
    "print(s2)\n",
    "print(s2_f + s2_residual)"
   ]
  },
  {
   "cell_type": "code",
   "execution_count": 30,
   "metadata": {},
   "outputs": [
    {
     "data": {
      "text/plain": [
       "112135207383074.55"
      ]
     },
     "execution_count": 30,
     "metadata": {},
     "output_type": "execute_result"
    }
   ],
   "source": [
    "sigma2_general = s2 / (n - 1)\n",
    "sigma2_general"
   ]
  },
  {
   "cell_type": "code",
   "execution_count": 31,
   "metadata": {},
   "outputs": [
    {
     "data": {
      "text/plain": [
       "2914079131144218.0"
      ]
     },
     "execution_count": 31,
     "metadata": {},
     "output_type": "execute_result"
    }
   ],
   "source": [
    "sigma2_f = s2_f / (k - 1)\n",
    "sigma2_f"
   ]
  },
  {
   "cell_type": "code",
   "execution_count": 32,
   "metadata": {},
   "outputs": [
    {
     "data": {
      "text/plain": [
       "110954004735931.77"
      ]
     },
     "execution_count": 32,
     "metadata": {},
     "output_type": "execute_result"
    }
   ],
   "source": [
    "sigma2_residual = s2_residual / (n - k)\n",
    "sigma2_residual"
   ]
  },
  {
   "cell_type": "code",
   "execution_count": 33,
   "metadata": {},
   "outputs": [
    {
     "data": {
      "text/plain": [
       "26.26384814211678"
      ]
     },
     "execution_count": 33,
     "metadata": {},
     "output_type": "execute_result"
    }
   ],
   "source": [
    "F_h = sigma2_f / sigma2_residual\n",
    "F_h"
   ]
  },
  {
   "cell_type": "code",
   "execution_count": 34,
   "metadata": {},
   "outputs": [
    {
     "data": {
      "text/plain": [
       "0.010950684771281317"
      ]
     },
     "execution_count": 34,
     "metadata": {},
     "output_type": "execute_result"
    }
   ],
   "source": [
    "eta2 = s2_f / s2\n",
    "eta2"
   ]
  },
  {
   "cell_type": "markdown",
   "metadata": {},
   "source": [
    "## Вывод"
   ]
  },
  {
   "cell_type": "markdown",
   "metadata": {},
   "source": [
    "Выборки игр из 11 жанров и их прибыль не имеют статистистически значимых отличий"
   ]
  },
  {
   "cell_type": "markdown",
   "metadata": {},
   "source": [
    "## А, что если есть такие 3 жанра, у которых значения будут статистически значимы?"
   ]
  },
  {
   "cell_type": "markdown",
   "metadata": {},
   "source": [
    "Предыдущие вычисления запишу в функцию и перебором сравню получившуюся сигму"
   ]
  },
  {
   "cell_type": "code",
   "execution_count": 35,
   "metadata": {},
   "outputs": [],
   "source": [
    "def find_eta2(dicts):\n",
    "    a_lst = np.array([])\n",
    "    for i in dicts:\n",
    "        a_lst = np.concatenate([a_lst, i['lst']])\n",
    "        \n",
    "    k = len(dicts)\n",
    "    n = len(a_lst)\n",
    "    \n",
    "    a_mean = a_lst.mean()\n",
    "    s2 = np.sum((a_lst - a_mean)**2)\n",
    "\n",
    "    s2_f = 0\n",
    "    s2_residual = 0\n",
    "\n",
    "    for i in dicts:\n",
    "        s2_f += ((i['mean'] - a_mean)**2) * i['n']\n",
    "        s2_residual += np.sum((i['lst'] - i['mean'])**2)\n",
    "    sigma2_general = s2 / (n - 1)\n",
    "    sigma2_f = s2_f / (k - 1)\n",
    "    sigma2_residual = s2_residual / (n - k)\n",
    "    F_h = sigma2_f / sigma2_residual\n",
    "    eta2 = s2_f / s2\n",
    "    \n",
    "    return eta2"
   ]
  },
  {
   "cell_type": "markdown",
   "metadata": {},
   "source": [
    "### Ручная проверка функции"
   ]
  },
  {
   "cell_type": "code",
   "execution_count": 36,
   "metadata": {},
   "outputs": [
    {
     "data": {
      "text/plain": [
       "0.009295379343909517"
      ]
     },
     "execution_count": 36,
     "metadata": {},
     "output_type": "execute_result"
    }
   ],
   "source": [
    "find_eta2([genres_dicts[0], genres_dicts[1], genres_dicts[2]])"
   ]
  },
  {
   "cell_type": "code",
   "execution_count": 38,
   "metadata": {},
   "outputs": [
    {
     "name": "stdout",
     "output_type": "stream",
     "text": [
      "Максимальные значения у комбинации трех жанров ['GenreIsCasual', 'GenreIsRacing', 'GenreIsMassivelyMultiplayer', 0.041387180308460066]\n"
     ]
    }
   ],
   "source": [
    "l = len(genres_dicts)\n",
    "max_eta2 = 0\n",
    "for i in range(l):\n",
    "    for j in range(i+1, l):\n",
    "        for t in range(j+1, l):\n",
    "            eta2 = find_eta2([genres_dicts[i], genres_dicts[j], genres_dicts[t]])\n",
    "            #print(eta2)\n",
    "            if eta2 > max_eta2:\n",
    "                max_eta2 = eta2\n",
    "                res = [genres_dicts[i]['name'], genres_dicts[j]['name'], genres_dicts[t]['name'], eta2]\n",
    "print('Максимальные значения у комбинации трех жанров', res)"
   ]
  },
  {
   "cell_type": "markdown",
   "metadata": {},
   "source": [
    "### Вывод! Отдельно взятые 3 жанра, так же не имеют статистического значения на объем потенциальной выручки"
   ]
  },
  {
   "cell_type": "code",
   "execution_count": null,
   "metadata": {},
   "outputs": [],
   "source": []
  },
  {
   "cell_type": "code",
   "execution_count": null,
   "metadata": {},
   "outputs": [],
   "source": []
  },
  {
   "cell_type": "code",
   "execution_count": null,
   "metadata": {},
   "outputs": [],
   "source": []
  }
 ],
 "metadata": {
  "kernelspec": {
   "display_name": "Python 3",
   "language": "python",
   "name": "python3"
  },
  "language_info": {
   "codemirror_mode": {
    "name": "ipython",
    "version": 3
   },
   "file_extension": ".py",
   "mimetype": "text/x-python",
   "name": "python",
   "nbconvert_exporter": "python",
   "pygments_lexer": "ipython3",
   "version": "3.7.2"
  }
 },
 "nbformat": 4,
 "nbformat_minor": 2
}
