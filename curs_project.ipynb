{
 "cells": [
  {
   "cell_type": "code",
   "execution_count": 1,
   "metadata": {},
   "outputs": [],
   "source": [
    "import pandas as pd\n",
    "import numpy as np\n",
    "import matplotlib.pyplot as plt\n",
    "from dateutil import parser\n",
    "\n",
    "%matplotlib inline\n",
    "plt.style.use('ggplot')\n",
    "plt.rcParams['figure.figsize'] = (10, 5)\n",
    "pd.set_option('display.max_columns', None)"
   ]
  },
  {
   "cell_type": "code",
   "execution_count": 2,
   "metadata": {},
   "outputs": [],
   "source": [
    "df = pd.read_csv('games-features.csv');"
   ]
  },
  {
   "cell_type": "code",
   "execution_count": 3,
   "metadata": {},
   "outputs": [],
   "source": [
    "df.drop(columns=['RequiredAge', 'PCReqsHaveMin', 'PCReqsHaveRec', 'LinuxReqsHaveMin', 'LinuxReqsHaveRec', \n",
    "                 'MacReqsHaveMin', 'MacReqsHaveRec', 'Website', 'PCMinReqsText', 'PCRecReqsText', \n",
    "                 'LinuxMinReqsText', 'LinuxRecReqsText', 'MacMinReqsText', 'MacRecReqsText',\n",
    "                'SupportEmail', 'SupportURL', 'AboutText', 'Background', 'ShortDescrip', \n",
    "                 'DetailedDescrip', 'DRMNotice', 'ExtUserAcctNotice', 'HeaderImage', 'LegalNotice', 'Reviews', 'DeveloperCount'],\n",
    "        inplace = True\n",
    "       );"
   ]
  },
  {
   "cell_type": "code",
   "execution_count": 4,
   "metadata": {},
   "outputs": [
    {
     "name": "stdout",
     "output_type": "stream",
     "text": [
      "<class 'pandas.core.frame.DataFrame'>\n",
      "RangeIndex: 13357 entries, 0 to 13356\n",
      "Data columns (total 52 columns):\n",
      "QueryID                        13357 non-null int64\n",
      "ResponseID                     13357 non-null int64\n",
      "QueryName                      13356 non-null object\n",
      "ResponseName                   13357 non-null object\n",
      "ReleaseDate                    13357 non-null object\n",
      "DemoCount                      13357 non-null int64\n",
      "DLCCount                       13357 non-null int64\n",
      "Metacritic                     13357 non-null int64\n",
      "MovieCount                     13357 non-null int64\n",
      "PackageCount                   13357 non-null int64\n",
      "RecommendationCount            13357 non-null int64\n",
      "PublisherCount                 13357 non-null int64\n",
      "ScreenshotCount                13357 non-null int64\n",
      "SteamSpyOwners                 13357 non-null int64\n",
      "SteamSpyOwnersVariance         13357 non-null int64\n",
      "SteamSpyPlayersEstimate        13357 non-null int64\n",
      "SteamSpyPlayersVariance        13357 non-null int64\n",
      "AchievementCount               13357 non-null int64\n",
      "AchievementHighlightedCount    13357 non-null int64\n",
      "ControllerSupport              13357 non-null bool\n",
      "IsFree                         13357 non-null bool\n",
      "FreeVerAvail                   13357 non-null bool\n",
      "PurchaseAvail                  13357 non-null bool\n",
      "SubscriptionAvail              13357 non-null bool\n",
      "PlatformWindows                13357 non-null bool\n",
      "PlatformLinux                  13357 non-null bool\n",
      "PlatformMac                    13357 non-null bool\n",
      "CategorySinglePlayer           13357 non-null bool\n",
      "CategoryMultiplayer            13357 non-null bool\n",
      "CategoryCoop                   13357 non-null bool\n",
      "CategoryMMO                    13357 non-null bool\n",
      "CategoryInAppPurchase          13357 non-null bool\n",
      "CategoryIncludeSrcSDK          13357 non-null bool\n",
      "CategoryIncludeLevelEditor     13357 non-null bool\n",
      "CategoryVRSupport              13357 non-null bool\n",
      "GenreIsNonGame                 13357 non-null bool\n",
      "GenreIsIndie                   13357 non-null bool\n",
      "GenreIsAction                  13357 non-null bool\n",
      "GenreIsAdventure               13357 non-null bool\n",
      "GenreIsCasual                  13357 non-null bool\n",
      "GenreIsStrategy                13357 non-null bool\n",
      "GenreIsRPG                     13357 non-null bool\n",
      "GenreIsSimulation              13357 non-null bool\n",
      "GenreIsEarlyAccess             13357 non-null bool\n",
      "GenreIsFreeToPlay              13357 non-null bool\n",
      "GenreIsSports                  13357 non-null bool\n",
      "GenreIsRacing                  13357 non-null bool\n",
      "GenreIsMassivelyMultiplayer    13357 non-null bool\n",
      "PriceCurrency                  13357 non-null object\n",
      "PriceInitial                   13357 non-null float64\n",
      "PriceFinal                     13357 non-null float64\n",
      "SupportedLanguages             13357 non-null object\n",
      "dtypes: bool(29), float64(2), int64(16), object(5)\n",
      "memory usage: 2.7+ MB\n"
     ]
    }
   ],
   "source": [
    "df.info()"
   ]
  },
  {
   "cell_type": "code",
   "execution_count": 5,
   "metadata": {},
   "outputs": [],
   "source": [
    "df['Relised'] = True"
   ]
  },
  {
   "cell_type": "code",
   "execution_count": 6,
   "metadata": {},
   "outputs": [],
   "source": [
    "df['ReleaseDateStr'] = df['ReleaseDate']"
   ]
  },
  {
   "cell_type": "code",
   "execution_count": 7,
   "metadata": {},
   "outputs": [],
   "source": [
    "def conert_str_to_date(df, key):\n",
    "    years_ = ['2016', '2017', '2019',]\n",
    "    soon_ = 'skoro|someday|20XX|coming|announced|soon|tba|tbc|tbd|early|-|breve'\n",
    "    periods_ = {\n",
    "        'q1|Q1': 'Feb',\n",
    "        'q2|q 2 ': 'May',\n",
    "        'q3': 'Aug',\n",
    "        'q4': 'Nov',\n",
    "        'mid': 'Jul',\n",
    "        'fall|autumn|utumn': 'Oct',\n",
    "        'end': 'Dec',\n",
    "        'spring': 'Apr',\n",
    "        'winter': 'Dec',\n",
    "        'summer': 'Jul',\n",
    "        'january': 'Jan', \n",
    "        'february': 'Feb',\n",
    "        'march': 'Mar',\n",
    "        'april': 'Apr',\n",
    "        #'may': 'May',\n",
    "        'june': 'Jun',\n",
    "        'july': 'Jul',\n",
    "        'august': 'Aug',\n",
    "        'september': 'Sep',\n",
    "        'october': 'Oct',\n",
    "        'november': 'Nov',\n",
    "        'december': 'Dec'\n",
    "    }\n",
    "    \n",
    "    for period_, month_ in periods_.items():\n",
    "        for year_ in years_:\n",
    "            df.loc[(df[key].str.contains(period_, case=False)) & (df[key].str.contains(year_)), [key, 'Relised']] = month_ + ' ' + year_, False\n",
    "        df.loc[(df[key].str.contains(period_, case=False)), [key, 'Relised']] = month_ + ' 2017', False\n",
    "    for year_ in years_:\n",
    "        df.loc[((df[key].str.len() != 8) & (df[key].str.len() != 10) & (df[key].str.len() != 11)) & (df[key].str.contains(year_)), [key, 'Relised']] = year_, False\n",
    "    df.loc[df[key].str.contains(soon_, case=False), [key, 'Relised']] = '2017', False\n",
    "    df.loc[(df[key].str.len() != 4) & (df[key].str.len() != 8) & (df[key].str.len() != 10) & (df[key].str.len() != 11), [key]] = '2017'"
   ]
  },
  {
   "cell_type": "code",
   "execution_count": 8,
   "metadata": {},
   "outputs": [],
   "source": [
    "conert_str_to_date(df, 'ReleaseDate')"
   ]
  },
  {
   "cell_type": "code",
   "execution_count": 9,
   "metadata": {},
   "outputs": [],
   "source": [
    "df['ReleaseDate'] = pd.to_datetime(df['ReleaseDate'])"
   ]
  },
  {
   "cell_type": "code",
   "execution_count": 10,
   "metadata": {},
   "outputs": [],
   "source": [
    "df[\"ReleaseDate\"] = df[\"ReleaseDate\"].astype(\"datetime64\")"
   ]
  },
  {
   "cell_type": "code",
   "execution_count": 11,
   "metadata": {},
   "outputs": [],
   "source": [
    "df[\"ReleaseYear\"] = df[\"ReleaseDate\"].dt.year\n",
    "df[\"ReleaseMonth\"] = df[\"ReleaseDate\"].dt.month\n",
    "df[\"ReleaseDay\"] = df[\"ReleaseDate\"].dt.day"
   ]
  },
  {
   "cell_type": "code",
   "execution_count": 12,
   "metadata": {},
   "outputs": [
    {
     "data": {
      "text/plain": [
       "601"
      ]
     },
     "execution_count": 12,
     "metadata": {},
     "output_type": "execute_result"
    }
   ],
   "source": [
    "df.loc[(df['Relised'] == False)]['QueryID'].count()"
   ]
  },
  {
   "cell_type": "code",
   "execution_count": 13,
   "metadata": {},
   "outputs": [
    {
     "data": {
      "text/plain": [
       "319"
      ]
     },
     "execution_count": 13,
     "metadata": {},
     "output_type": "execute_result"
    }
   ],
   "source": [
    "df.loc[(df['GenreIsNonGame'] == True)]['QueryID'].count()"
   ]
  },
  {
   "cell_type": "markdown",
   "metadata": {},
   "source": [
    "### Исключить из списка не игры, а так же не вышедшие или в раннем доступе, по стостянию на 2016 год"
   ]
  },
  {
   "cell_type": "code",
   "execution_count": 14,
   "metadata": {},
   "outputs": [
    {
     "data": {
      "text/plain": [
       "13357"
      ]
     },
     "execution_count": 14,
     "metadata": {},
     "output_type": "execute_result"
    }
   ],
   "source": [
    "df['QueryID'].count()"
   ]
  },
  {
   "cell_type": "code",
   "execution_count": 15,
   "metadata": {
    "scrolled": true
   },
   "outputs": [],
   "source": [
    "df = df.loc[\n",
    "    (df['Relised'] == True) & \n",
    "    (df['GenreIsNonGame'] == False) & \n",
    "    (\n",
    "        (df['GenreIsEarlyAccess'] == False) | \n",
    "        (\n",
    "            (df['GenreIsEarlyAccess'] == True) & (df['SteamSpyOwners'] > 0)\n",
    "        )\n",
    "    )]"
   ]
  },
  {
   "cell_type": "code",
   "execution_count": 16,
   "metadata": {},
   "outputs": [
    {
     "data": {
      "text/plain": [
       "12099"
      ]
     },
     "execution_count": 16,
     "metadata": {},
     "output_type": "execute_result"
    }
   ],
   "source": [
    "df['QueryID'].count()"
   ]
  },
  {
   "cell_type": "markdown",
   "metadata": {},
   "source": [
    "### Удалить дубликаты"
   ]
  },
  {
   "cell_type": "code",
   "execution_count": 17,
   "metadata": {},
   "outputs": [],
   "source": [
    "df.drop_duplicates(subset='ResponseID', keep=\"first\", inplace=True);"
   ]
  },
  {
   "cell_type": "code",
   "execution_count": 18,
   "metadata": {},
   "outputs": [
    {
     "data": {
      "text/plain": [
       "11951"
      ]
     },
     "execution_count": 18,
     "metadata": {},
     "output_type": "execute_result"
    }
   ],
   "source": [
    "df['QueryID'].count()"
   ]
  },
  {
   "cell_type": "markdown",
   "metadata": {},
   "source": [
    "## Рассчет потенциальной выручки (без учета скидок и распродаж и региональных цен) по состоянию на 2016 год"
   ]
  },
  {
   "cell_type": "code",
   "execution_count": 19,
   "metadata": {},
   "outputs": [],
   "source": [
    "df['PotentialRevenue'] = df['PriceFinal'] * df['SteamSpyOwners']"
   ]
  },
  {
   "cell_type": "markdown",
   "metadata": {},
   "source": [
    "### Рост кол-ва игр на Steam по состоянию на 2016 год"
   ]
  },
  {
   "cell_type": "code",
   "execution_count": 20,
   "metadata": {},
   "outputs": [
    {
     "data": {
      "text/plain": [
       "<matplotlib.axes._subplots.AxesSubplot at 0x2ae8a96fc88>"
      ]
     },
     "execution_count": 20,
     "metadata": {},
     "output_type": "execute_result"
    },
    {
     "data": {
      "image/png": "[encoded data removed]",
      "text/plain": [
       "<Figure size 432x288 with 1 Axes>"
      ]
     },
     "metadata": {
      "needs_background": "light"
     },
     "output_type": "display_data"
    }
   ],
   "source": [
    "df.groupby(df[\"ReleaseYear\"])['QueryID'].count().plot(kind=\"bar\")"
   ]
  },
  {
   "cell_type": "markdown",
   "metadata": {},
   "source": [
    "### Периодичность по месяцам"
   ]
  },
  {
   "cell_type": "code",
   "execution_count": 21,
   "metadata": {},
   "outputs": [
    {
     "data": {
      "text/plain": [
       "<matplotlib.axes._subplots.AxesSubplot at 0x2ae8918c6d8>"
      ]
     },
     "execution_count": 21,
     "metadata": {},
     "output_type": "execute_result"
    },
    {
     "data": {
      "image/png": "[encoded data removed]",
      "text/plain": [
       "<Figure size 432x288 with 1 Axes>"
      ]
     },
     "metadata": {
      "needs_background": "light"
     },
     "output_type": "display_data"
    }
   ],
   "source": [
    "df.groupby(df[\"ReleaseMonth\"])['QueryID'].count().plot(kind=\"bar\")"
   ]
  },
  {
   "cell_type": "code",
   "execution_count": 22,
   "metadata": {},
   "outputs": [
    {
     "name": "stdout",
     "output_type": "stream",
     "text": [
      "[{'name': 'GenreIsIndie', 'lst': array([3.52966680e+05, 6.73679646e+06, 7.27610661e+06, ...,\n",
      "       5.37423000e+03, 9.91450000e+02, 4.76720000e+02]), 'n': 5668, 'mean': 1105901.1439167254}, {'name': 'GenreIsAction', 'lst': array([1.30203007e+08, 2.69417086e+07, 3.80292990e+07, ...,\n",
      "       9.91450000e+02, 6.04803000e+03, 4.76720000e+02]), 'n': 4081, 'mean': 3648326.8041362413}, {'name': 'GenreIsAdventure', 'lst': array([1.74742565e+08, 4.48371460e+05, 9.24975800e+05, ...,\n",
      "       4.83992000e+03, 1.77507000e+03, 1.87923400e+04]), 'n': 3186, 'mean': 2040017.9360546137}, {'name': 'GenreIsCasual', 'lst': array([362458.63, 688220.8 , 448371.46, ...,   9943.08,   1065.24,\n",
      "          991.45]), 'n': 2538, 'mean': 427348.5339440505}, {'name': 'GenreIsStrategy', 'lst': array([6.73679646e+06, 7.27610661e+06, 8.10924264e+06, ...,\n",
      "       6.27003000e+03, 7.16065000e+03, 8.02197000e+03]), 'n': 1976, 'mean': 2485127.8964979756}, {'name': 'GenreIsRPG', 'lst': array([5.97831940e+05, 9.41718339e+06, 9.65189844e+06, ...,\n",
      "       2.09150500e+04, 4.83992000e+03, 8.02197000e+03]), 'n': 1524, 'mean': 3271083.70175853}, {'name': 'GenreIsSimulation', 'lst': array([1.59756482e+07, 8.70091053e+06, 1.03098889e+06, ...,\n",
      "       2.68961000e+03, 5.32620000e+03, 8.02197000e+03]), 'n': 1550, 'mean': 1963074.5532}, {'name': 'GenreIsFreeToPlay', 'lst': array([1209399.39,    4006.97,   21510.65,   16129.24]), 'n': 4, 'mean': 312761.5625}, {'name': 'GenreIsSports', 'lst': array([2.90394730e+05, 7.30829320e+05, 5.19059800e+04, 4.44345210e+05,\n",
      "       1.73795031e+06, 2.68397334e+06, 1.07143749e+06, 3.33433200e+05,\n",
      "       5.85302050e+05, 1.25477230e+05, 6.91766400e+04, 1.39830050e+05,\n",
      "       5.17641642e+06, 4.44345210e+05, 4.47921630e+05, 8.65393740e+05,\n",
      "       3.16052014e+07, 1.04312412e+06, 5.05223220e+05, 1.02746606e+06,\n",
      "       1.00815767e+07, 1.56795780e+06, 4.66738794e+06, 2.05922275e+06,\n",
      "       9.71605331e+06, 6.27072300e+04, 1.14608593e+07, 1.84588959e+07,\n",
      "       1.26853020e+06, 6.49637019e+06, 5.80712600e+05, 2.07841950e+05,\n",
      "       1.61047036e+07, 5.43072710e+05, 2.95821360e+05, 8.10477330e+05,\n",
      "       7.99812307e+06, 3.25949314e+06, 3.40419240e+05, 6.50779584e+06,\n",
      "       6.07807330e+05, 4.10395156e+06, 1.29000870e+05, 1.26947855e+07,\n",
      "       3.41669080e+06, 6.23718910e+05, 3.32181486e+06, 1.68891084e+07,\n",
      "       3.51985618e+06, 7.42343998e+06, 1.34458695e+06, 4.60837814e+06,\n",
      "       6.31004340e+05, 1.93601151e+06, 1.18344894e+06, 4.87187547e+06,\n",
      "       1.12629844e+07, 2.59704748e+06, 1.40828031e+06, 1.07492400e+04,\n",
      "       9.19961789e+07, 2.27187585e+06, 2.07993589e+07, 8.53273150e+05,\n",
      "       5.37870650e+05, 2.65773780e+05, 1.60198960e+05, 5.21388090e+05,\n",
      "       6.90504430e+06, 1.00639264e+06, 2.99809180e+05, 4.00941510e+05,\n",
      "       1.86326800e+04, 1.98880920e+05, 6.70424620e+05, 1.14564799e+06,\n",
      "       2.98677024e+06, 4.03849746e+06, 1.59460380e+05, 1.50559560e+05,\n",
      "       4.58910430e+05, 2.51846223e+06, 6.64946100e+04, 4.83715800e+04,\n",
      "       3.01104130e+05, 5.91308100e+04, 5.63820100e+04, 3.98027280e+05,\n",
      "       1.52565368e+07, 4.57972200e+04, 7.45147400e+04, 6.46973847e+06,\n",
      "       1.47805647e+06, 4.83211900e+05, 5.19014490e+05, 1.54469700e+04,\n",
      "       2.98914972e+06, 5.57557650e+05, 1.43356500e+04, 5.01928910e+05,\n",
      "       5.45164320e+05, 1.88939483e+06, 1.28133360e+05, 2.09604800e+04,\n",
      "       2.90760547e+06, 4.47603000e+03, 1.54162880e+05, 3.58341300e+04,\n",
      "       1.83654000e+05, 5.64012410e+05, 2.41615800e+04, 1.64835000e+05,\n",
      "       5.10831000e+04, 2.43798040e+05, 2.41543736e+07, 6.45277200e+04,\n",
      "       1.16576680e+05, 4.05137330e+05, 8.06292900e+04, 1.10782581e+06,\n",
      "       1.46986470e+05, 6.45169600e+04, 2.45719470e+05, 1.53323324e+06,\n",
      "       1.06239965e+08, 1.70032797e+06, 3.94205400e+04, 1.21179380e+06,\n",
      "       3.58420700e+04, 3.94205400e+04, 3.72853480e+05, 1.66633200e+05,\n",
      "       6.84015780e+05, 3.69275270e+05, 6.45054300e+04, 2.02467330e+05,\n",
      "       1.16366800e+04, 1.90024940e+05, 1.30471560e+05, 1.43408260e+05,\n",
      "       4.56435300e+04, 3.76223400e+04, 1.57741090e+05, 6.62272800e+04,\n",
      "       7.42087500e+04, 4.83715800e+04, 2.19612120e+05, 2.12393310e+05,\n",
      "       1.61238600e+04, 9.67531500e+04, 1.07566956e+06, 6.92367000e+03,\n",
      "       1.34460300e+04, 4.47951600e+04, 2.14769600e+04, 1.97196090e+05,\n",
      "       1.57741090e+05, 1.43408260e+05, 1.69981494e+06, 3.54083310e+05,\n",
      "       4.62488640e+05, 8.96351600e+04, 1.57672170e+05, 1.25374500e+04,\n",
      "       5.37631600e+04, 2.50999560e+05, 8.96103000e+03, 1.18819530e+05,\n",
      "       6.18626250e+05, 1.17622587e+06, 1.12877010e+05, 7.70428800e+04,\n",
      "       6.09495100e+04, 6.41597000e+03, 9.24823040e+05, 8.60713000e+04,\n",
      "       8.54868770e+05, 1.74829190e+05, 1.18819530e+05, 3.55682700e+04,\n",
      "       2.82070620e+05, 6.77216700e+04, 1.46986470e+05, 1.22573770e+05,\n",
      "       2.14931000e+04, 1.26088385e+06, 2.60372197e+07, 6.81259200e+04,\n",
      "       8.96320700e+04, 4.20072100e+04, 8.42057100e+04, 9.60078400e+04,\n",
      "       3.57982600e+04, 5.36694900e+04, 2.00377800e+04, 5.89187100e+04,\n",
      "       2.09695110e+05, 3.13347248e+06, 5.36107000e+03, 3.57783000e+03,\n",
      "       2.58156500e+04, 5.45292920e+07, 1.07478300e+04, 3.11539900e+04,\n",
      "       1.64958750e+05, 7.22244000e+04, 6.04684500e+05, 2.14124000e+03,\n",
      "       1.55775940e+05, 8.23050357e+06, 9.35139800e+04, 5.38050000e+04,\n",
      "       9.49649400e+04, 1.98937410e+05, 2.49444000e+03, 2.21844000e+04,\n",
      "       5.01948900e+04, 7.01499064e+06, 1.43336520e+05, 1.25477230e+05,\n",
      "       1.50609780e+05, 8.73385800e+04, 1.07492400e+04, 5.32433000e+03,\n",
      "       1.61442300e+04, 4.92213600e+04, 1.42045200e+04, 2.19612120e+05,\n",
      "       1.36231850e+05, 9.41114000e+03, 3.95670000e+05, 4.83662000e+04,\n",
      "       3.37011410e+05, 1.61238600e+04, 4.89303580e+05, 8.60727820e+05,\n",
      "       8.05386000e+03, 4.74349400e+04, 3.58610325e+06, 5.08086600e+04,\n",
      "       6.98800500e+04, 4.20607100e+04, 2.79646107e+06, 1.07261000e+03,\n",
      "       3.87206300e+05, 2.01694290e+05, 5.01948900e+04, 4.00715520e+05,\n",
      "       1.62807288e+06, 1.87682300e+04, 6.38160760e+05, 6.08570420e+05,\n",
      "       2.72299200e+04, 1.29988990e+05, 2.62761200e+04, 1.06067000e+03,\n",
      "       1.07492400e+04, 3.04595100e+04, 2.32966800e+04, 8.77245000e+03,\n",
      "       4.19470160e+05, 8.96103000e+03, 4.29862000e+04, 8.36722440e+05,\n",
      "       4.38521200e+04, 4.14896152e+06, 9.46723260e+05, 5.19995980e+05,\n",
      "       4.30131000e+04, 1.34375490e+05, 1.00274500e+04, 1.14656500e+04,\n",
      "       8.94707000e+03, 1.37924500e+04, 9.65172000e+03, 2.59529900e+04,\n",
      "       6.27003000e+03, 5.89927000e+03, 2.86856500e+04, 2.49050700e+05,\n",
      "       1.35979200e+04, 6.55977390e+05, 2.02930040e+05, 3.40068500e+04,\n",
      "       1.43356500e+04, 1.39772400e+04, 6.27370700e+04, 1.61238600e+04,\n",
      "       7.52797800e+04, 3.31136400e+04, 2.15092400e+04, 1.79278260e+05,\n",
      "       1.32653640e+05, 5.36107000e+03, 1.61442300e+04, 1.28904800e+04,\n",
      "       8.38040000e+03, 1.07384800e+04, 1.59965000e+03, 2.68462000e+03,\n",
      "       2.86601300e+04, 2.11500691e+07, 1.27367530e+07, 3.52190050e+05,\n",
      "       2.14984800e+04, 8.94707000e+03, 9.83664000e+04, 7.78589700e+04,\n",
      "       3.76374500e+04, 3.92627000e+03, 2.59529900e+04, 7.52823000e+03,\n",
      "       6.80818500e+04, 3.25943700e+04, 8.60039100e+04, 5.32467000e+03,\n",
      "       6.45054300e+04, 8.58130000e+03, 5.36060000e+03, 1.87196500e+04,\n",
      "       2.41938600e+04, 2.86856500e+04, 1.39902300e+04, 5.01697800e+04,\n",
      "       1.25374500e+04, 8.33444000e+04, 7.16283000e+03, 1.66516010e+05,\n",
      "       3.58341300e+04, 5.10859200e+04, 4.80997000e+03, 1.59367000e+03,\n",
      "       9.48207000e+03, 9.18836835e+06, 3.70803276e+06, 7.99920000e+02,\n",
      "       2.15061000e+03, 8.07192000e+03, 7.61878800e+04, 7.98967000e+03,\n",
      "       2.93977000e+03, 8.20875000e+03, 2.55307000e+03, 1.85125092e+06,\n",
      "       1.32337940e+06, 1.59846700e+04, 4.25867000e+03, 1.07478300e+04,\n",
      "       2.40696500e+04, 4.26693300e+04, 2.13146700e+04, 2.15028300e+04,\n",
      "       1.95327000e+03, 2.14984800e+04, 5.37423000e+03]), 'n': 355, 'mean': 2074625.8232112676}, {'name': 'GenreIsRacing', 'lst': array([4.16928654e+06, 1.53038310e+05, 2.40742550e+05, 1.40508420e+05,\n",
      "       1.00195345e+07, 6.93590040e+05, 2.31993013e+06, 2.07628910e+05,\n",
      "       3.89417151e+06, 1.27628150e+05, 4.54695213e+06, 7.30829320e+05,\n",
      "       8.38578501e+06, 3.16928040e+05, 5.21385093e+06, 2.12675112e+06,\n",
      "       6.57882894e+06, 6.41427930e+05, 2.79510210e+05, 2.74125600e+05,\n",
      "       1.10065124e+07, 1.07143749e+06, 3.33433200e+05, 3.01364334e+06,\n",
      "       5.85302050e+05, 1.52145100e+04, 2.31128640e+05, 4.64050485e+06,\n",
      "       4.09429583e+07, 4.01543128e+06, 4.47921630e+05, 4.43130324e+06,\n",
      "       1.26766370e+05, 2.23604172e+06, 2.38291470e+05, 8.01155540e+05,\n",
      "       4.43002220e+05, 2.15682770e+05, 8.65393740e+05, 3.16052014e+07,\n",
      "       1.04312412e+06, 5.05223220e+05, 2.04552231e+06, 1.02746606e+06,\n",
      "       6.82636680e+05, 5.20170300e+04, 1.67715500e+07, 3.86484661e+06,\n",
      "       5.78720700e+05, 1.02572488e+07, 1.02918750e+05, 2.21255884e+06,\n",
      "       2.12853933e+06, 2.36862900e+06, 8.65393740e+05, 7.56103140e+05,\n",
      "       6.64054230e+05, 6.27072300e+04, 4.89130380e+05, 4.58837580e+05,\n",
      "       5.44861319e+06, 1.14608593e+07, 1.77199623e+06, 1.11032429e+06,\n",
      "       3.90053556e+06, 7.27431840e+05, 1.84588959e+07, 3.02796900e+05,\n",
      "       6.49637019e+06, 2.00669130e+05, 4.67163800e+05, 3.83608100e+05,\n",
      "       1.61047036e+07, 5.14834454e+06, 1.95654150e+06, 5.80712600e+05,\n",
      "       6.50779584e+06, 1.93506300e+05, 4.31477578e+06, 6.07807330e+05,\n",
      "       4.10395156e+06, 1.29000870e+05, 1.26947855e+07, 3.41669080e+06,\n",
      "       3.76383910e+05, 3.32181486e+06, 2.17980955e+06, 1.67882949e+06,\n",
      "       1.68891084e+07, 6.31004340e+05, 9.98822948e+06, 4.73166845e+06,\n",
      "       1.93601151e+06, 1.18344894e+06, 4.87187547e+06, 1.12629844e+07,\n",
      "       3.40235797e+06, 1.33211610e+05, 3.13578439e+06, 9.19961789e+07,\n",
      "       8.06444748e+06, 2.07993589e+07, 2.52627120e+05, 2.06004309e+06,\n",
      "       8.53273150e+05, 5.37870650e+05, 2.65773780e+05, 7.16503250e+05,\n",
      "       2.56509868e+07, 2.67024990e+05, 1.39750110e+05, 1.98880920e+05,\n",
      "       1.84724091e+06, 2.32149450e+05, 3.54548100e+04, 1.30065600e+04,\n",
      "       1.50559560e+05, 4.58910430e+05, 6.64946100e+04, 7.69657600e+04,\n",
      "       2.13216570e+05, 1.39542270e+05, 8.68110300e+04, 7.45343910e+05,\n",
      "       8.33146020e+05, 3.98027280e+05, 9.11627703e+06, 5.33925540e+05,\n",
      "       3.53949010e+05, 7.45147400e+04, 1.36842211e+06, 7.45147400e+04,\n",
      "       6.46973847e+06, 2.34197020e+05, 1.03816950e+05, 1.23668999e+06,\n",
      "       1.47805647e+06, 5.89187100e+04, 3.37840100e+04, 1.69435140e+05,\n",
      "       3.12293394e+06, 4.09698770e+05, 7.17213000e+04, 5.01928910e+05,\n",
      "       6.81179240e+05, 1.47669070e+05, 1.88939483e+06, 1.34071600e+04,\n",
      "       1.57741090e+05, 7.54304940e+05, 3.22477200e+04, 5.64012410e+05,\n",
      "       4.47453300e+04, 1.44310380e+07, 5.10831000e+04, 9.93729020e+05,\n",
      "       2.41543736e+07, 1.24240320e+05, 1.35139180e+05, 1.43213000e+04,\n",
      "       2.18367390e+05, 4.65367400e+04, 1.29075430e+05, 6.45169600e+04,\n",
      "       2.45719470e+05, 9.92082000e+04, 1.53323324e+06, 7.12379632e+06,\n",
      "       4.83281500e+04, 5.75546300e+05, 1.06239965e+08, 1.34430600e+04,\n",
      "       3.94205400e+04, 2.86816520e+05, 3.94205400e+04, 1.32454560e+05,\n",
      "       1.66633200e+05, 2.30588800e+04, 1.21716080e+05, 3.06076620e+05,\n",
      "       6.84015780e+05, 4.83281500e+04, 1.25293910e+05, 1.47929370e+05,\n",
      "       9.44224830e+05, 3.76223400e+04, 2.06167500e+05, 9.67915800e+04,\n",
      "       3.08761240e+05, 3.42468360e+05, 7.88805400e+04, 2.58024800e+04,\n",
      "       7.42087500e+04, 1.14656500e+04, 4.83715800e+04, 8.77921200e+04,\n",
      "       2.12393310e+05, 2.64776400e+04, 9.75495100e+04, 1.79120700e+04,\n",
      "       1.07566956e+06, 6.92367000e+03, 1.21837300e+05, 4.47951600e+04,\n",
      "       2.14769600e+04, 7.17041300e+04, 1.61985380e+05, 4.03192000e+03,\n",
      "       1.69981494e+06, 2.07841950e+05, 7.16703000e+03, 3.43192200e+04,\n",
      "       4.57045100e+04, 4.62488640e+05, 3.25943700e+04, 5.37631600e+04,\n",
      "       2.50999560e+05, 1.13064630e+05, 8.58648000e+03, 2.27542230e+05,\n",
      "       2.28412200e+04, 1.08300918e+06, 9.68792000e+03, 6.18626250e+05,\n",
      "       1.17622587e+06, 2.92669300e+04, 6.43986000e+03, 3.22477200e+04,\n",
      "       3.57982600e+05, 3.62458630e+05, 1.46922930e+05, 2.34715050e+05,\n",
      "       6.11335400e+04, 8.95803300e+04, 4.57323520e+05, 3.04645400e+04,\n",
      "       7.16682600e+04, 1.28988300e+04, 4.82615900e+04, 1.52145100e+04,\n",
      "       1.11860100e+04, 8.54868770e+05, 1.22573770e+05, 1.63990600e+05,\n",
      "       1.15602880e+05, 1.07481500e+04, 6.81259200e+04, 4.20072100e+04,\n",
      "       9.60078400e+04, 1.56352902e+06, 5.36107000e+03, 1.46324700e+04,\n",
      "       9.84527000e+03, 3.11539900e+04, 6.18337500e+04, 2.41592000e+03,\n",
      "       8.05386000e+03, 4.82586000e+03, 3.73965000e+03, 6.94965000e+03,\n",
      "       6.04684500e+05, 2.14124000e+03, 1.55775940e+05, 2.90453150e+05,\n",
      "       3.58341300e+04, 2.21844000e+04, 5.01948900e+04, 4.12087500e+04,\n",
      "       7.01499064e+06, 2.83238310e+05, 2.68462000e+03, 5.32433000e+03,\n",
      "       1.54863150e+05, 4.83662000e+04, 3.37011410e+05, 1.88031000e+04,\n",
      "       8.60727820e+05, 8.05386000e+03, 3.73965000e+03, 5.08086600e+04,\n",
      "       6.98800500e+04, 8.05435900e+04, 1.87682300e+04, 1.07066520e+05,\n",
      "       6.38160760e+05, 6.08570420e+05, 8.07192000e+03, 5.01697800e+04,\n",
      "       1.29988990e+05, 3.76374500e+04, 1.06067000e+03, 5.34465000e+03,\n",
      "       1.34460300e+04, 2.68591600e+04, 1.22324396e+06, 4.29862000e+04,\n",
      "       2.86083000e+03, 5.28041800e+04, 9.46723260e+05, 5.36924000e+03,\n",
      "       5.32620000e+03, 5.91505400e+04, 5.19995980e+05, 2.61693770e+05,\n",
      "       7.94886810e+05, 1.88124500e+04, 1.00274500e+04, 8.06403000e+03,\n",
      "       2.09658600e+04, 1.59965000e+03, 1.75518900e+04, 8.94707000e+03,\n",
      "       1.86406500e+04, 1.86406500e+04, 8.58130000e+03, 4.03313300e+04,\n",
      "       6.86264040e+05, 1.61307390e+05, 3.11019800e+04, 3.19033000e+03,\n",
      "       2.86856500e+04, 1.50925500e+04, 1.35979200e+04, 1.14243500e+04,\n",
      "       3.22638600e+04, 1.61238600e+04, 2.15092400e+04, 2.41615800e+04,\n",
      "       1.32653640e+05, 5.36107000e+03, 1.97102700e+04, 3.75245000e+03,\n",
      "       2.68462000e+03, 2.86601300e+04, 9.30468000e+03, 9.83664000e+04,\n",
      "       2.59529900e+04, 2.74351000e+03, 3.62792000e+03, 1.29126270e+05,\n",
      "       5.71130000e+03, 1.39902300e+04, 1.25374500e+04, 1.39200500e+04,\n",
      "       8.60856500e+04, 1.66516010e+05, 3.04595100e+04, 3.22204300e+04,\n",
      "       3.22204300e+04, 1.01663445e+06, 4.79167000e+03, 1.34071600e+04,\n",
      "       5.63914000e+03, 1.12743900e+04, 7.16065000e+03, 2.86713000e+04,\n",
      "       4.65951300e+04, 8.01620000e+02, 1.78069349e+06, 5.78593500e+04,\n",
      "       6.45460000e+03, 2.84130000e+03, 1.85125092e+06, 4.25867000e+03,\n",
      "       1.24245000e+03, 3.87037200e+04, 5.32620000e+03, 4.76720000e+02]), 'n': 368, 'mean': 2066919.9340217393}, {'name': 'GenreIsMassivelyMultiplayer', 'lst': array([1.18454943e+07, 9.98118691e+06, 1.25646404e+07, 1.26343467e+08,\n",
      "       2.20379400e+05, 1.08810081e+07, 5.66618310e+05, 1.25322212e+06,\n",
      "       9.98822948e+06, 3.57981602e+06, 4.62411520e+05, 2.23684110e+05,\n",
      "       9.36489721e+07, 4.62488640e+05, 1.98880920e+05, 5.43705112e+06,\n",
      "       3.63549900e+04, 2.04328690e+05, 9.39716800e+04, 4.48155810e+05,\n",
      "       3.76398900e+04, 5.26020258e+07, 1.02205920e+05, 7.93725480e+05,\n",
      "       8.81958800e+06, 2.78670079e+07, 8.24175000e+04, 3.49284657e+06,\n",
      "       5.80765640e+05, 5.81799840e+05, 5.20861140e+05, 1.41292668e+06,\n",
      "       3.87378810e+06, 9.03468040e+05, 9.51715100e+05, 2.18749410e+05,\n",
      "       9.68077200e+04, 8.06462000e+03, 4.91174290e+05, 5.01697800e+04,\n",
      "       3.16852080e+05, 1.14665220e+05, 2.90394730e+05, 6.44942600e+04,\n",
      "       3.94362720e+05, 1.20671003e+08, 3.06379200e+04, 3.43192200e+04,\n",
      "       1.61292400e+04, 1.66688800e+05, 1.18340540e+05, 6.47053300e+05,\n",
      "       2.68462000e+03, 2.71462582e+07, 9.44224830e+05, 1.13657230e+05,\n",
      "       1.62050934e+06, 6.45169600e+04, 1.69421580e+05, 7.88310900e+04,\n",
      "       8.36292600e+04, 2.49466140e+05, 3.39243168e+06, 1.56352902e+06,\n",
      "       5.36107000e+03, 1.42332798e+06, 2.35543070e+05, 1.34375490e+05,\n",
      "       2.90453150e+05, 8.95803300e+04, 7.58149230e+05, 1.12877010e+05,\n",
      "       2.74501260e+05, 3.51344240e+05, 6.01769100e+04, 1.95307200e+04,\n",
      "       3.63549900e+04, 6.08570420e+05, 2.40819700e+04, 1.70306850e+05,\n",
      "       1.37912700e+04, 1.23626250e+05, 1.91708100e+05, 6.36982150e+07,\n",
      "       8.70012000e+03, 2.14932291e+06, 1.18251630e+05, 1.06669815e+06,\n",
      "       1.28494300e+04, 3.33044000e+04, 6.39243000e+03, 3.22638600e+04,\n",
      "       8.42057100e+04, 1.72055220e+05, 1.28904800e+04, 7.13813000e+03,\n",
      "       4.61637000e+03, 3.76374500e+04, 8.73051900e+04, 6.86998200e+04,\n",
      "       2.95358100e+04, 9.84527000e+03, 4.73125400e+04, 1.06546700e+04,\n",
      "       1.79120700e+04, 3.04595100e+04, 9.48207000e+03, 1.61292400e+04,\n",
      "       2.79606800e+04, 6.60772819e+06, 4.82253750e+05, 4.61287890e+05,\n",
      "       5.37423000e+03]), 'n': 113, 'mean': 5579666.831946903}]\n"
     ]
    }
   ],
   "source": [
    "genres_list = [\n",
    "    'GenreIsIndie',\n",
    "    'GenreIsAction',\n",
    "    'GenreIsAdventure',\n",
    "    'GenreIsCasual',\n",
    "    'GenreIsStrategy',\n",
    "    'GenreIsRPG',\n",
    "    'GenreIsSimulation',\n",
    "    #'GenreIsEarlyAccess'\n",
    "    'GenreIsFreeToPlay',\n",
    "    'GenreIsSports',\n",
    "    'GenreIsRacing',\n",
    "    'GenreIsMassivelyMultiplayer',\n",
    "]\n",
    "genres_dicts = []\n",
    "for g in genres_list: \n",
    "    lst = np.array(df.loc[(df[g] == True) & (df['PotentialRevenue'] > 0), 'PotentialRevenue'])\n",
    "    genres_dicts.append({\n",
    "        'name': g,\n",
    "        'lst': lst,\n",
    "        'n': len(lst),\n",
    "        'mean': lst.mean()\n",
    "    })\n",
    "№print(genres_dicts)  "
   ]
  },
  {
   "cell_type": "markdown",
   "metadata": {},
   "source": [
    "## Дисперсионный анализ влияние жанра на потенциальную выручку"
   ]
  },
  {
   "cell_type": "markdown",
   "metadata": {},
   "source": [
    "Влияет ли выбор жанра игры на потенциальную выручку?"
   ]
  },
  {
   "cell_type": "markdown",
   "metadata": {},
   "source": [
    "Влияет ли фактор \"жанр\", на состояние потенциальной выручки"
   ]
  },
  {
   "cell_type": "code",
   "execution_count": 23,
   "metadata": {},
   "outputs": [],
   "source": [
    "all_lst = np.array([])\n",
    "for g in genres_dicts:\n",
    "    all_lst = np.concatenate([all_lst, g['lst']])"
   ]
  },
  {
   "cell_type": "code",
   "execution_count": 24,
   "metadata": {},
   "outputs": [
    {
     "name": "stdout",
     "output_type": "stream",
     "text": [
      "11 21363\n"
     ]
    }
   ],
   "source": [
    "k = len(genres_dicts)\n",
    "n = len(all_lst)\n",
    "print(k, n)"
   ]
  },
  {
   "cell_type": "code",
   "execution_count": 25,
   "metadata": {},
   "outputs": [
    {
     "data": {
      "text/plain": [
       "2050674.4857211066"
      ]
     },
     "execution_count": 25,
     "metadata": {},
     "output_type": "execute_result"
    }
   ],
   "source": [
    "all_mean = all_lst.mean()\n",
    "all_mean"
   ]
  },
  {
   "cell_type": "code",
   "execution_count": 26,
   "metadata": {},
   "outputs": [
    {
     "data": {
      "text/plain": [
       "2.394996915022175e+18"
      ]
     },
     "execution_count": 26,
     "metadata": {},
     "output_type": "execute_result"
    }
   ],
   "source": [
    "s2 = np.sum((all_lst - all_mean)**2)\n",
    "s2"
   ]
  },
  {
   "cell_type": "code",
   "execution_count": 27,
   "metadata": {},
   "outputs": [
    {
     "name": "stdout",
     "output_type": "stream",
     "text": [
      "2.623879580814664e+16\n"
     ]
    }
   ],
   "source": [
    "s2_f = 0\n",
    "for g in genres_dicts:\n",
    "    s2_f += ((g['mean'] - all_mean)**2) * g['n']\n",
    "print(s2_f)"
   ]
  },
  {
   "cell_type": "code",
   "execution_count": 28,
   "metadata": {},
   "outputs": [
    {
     "data": {
      "text/plain": [
       "2.3687581192140283e+18"
      ]
     },
     "execution_count": 28,
     "metadata": {},
     "output_type": "execute_result"
    }
   ],
   "source": [
    "s2_residual = 0\n",
    "for g in genres_dicts:\n",
    "    s2_residual += np.sum((g['lst'] - g['mean'])**2)\n",
    "s2_residual"
   ]
  },
  {
   "cell_type": "code",
   "execution_count": 29,
   "metadata": {},
   "outputs": [
    {
     "name": "stdout",
     "output_type": "stream",
     "text": [
      "2.394996915022175e+18\n",
      "2.3949969150221747e+18\n"
     ]
    }
   ],
   "source": [
    "print(s2)\n",
    "print(s2_f + s2_residual)"
   ]
  },
  {
   "cell_type": "code",
   "execution_count": 30,
   "metadata": {},
   "outputs": [
    {
     "data": {
      "text/plain": [
       "112114826094100.52"
      ]
     },
     "execution_count": 30,
     "metadata": {},
     "output_type": "execute_result"
    }
   ],
   "source": [
    "sigma2_general = s2 / (n - 1)\n",
    "sigma2_general"
   ]
  },
  {
   "cell_type": "code",
   "execution_count": 31,
   "metadata": {},
   "outputs": [
    {
     "data": {
      "text/plain": [
       "2623879580814664.0"
      ]
     },
     "execution_count": 31,
     "metadata": {},
     "output_type": "execute_result"
    }
   ],
   "source": [
    "sigma2_f = s2_f / (k - 1)\n",
    "sigma2_f"
   ]
  },
  {
   "cell_type": "code",
   "execution_count": 32,
   "metadata": {},
   "outputs": [
    {
     "data": {
      "text/plain": [
       "110938465680686.97"
      ]
     },
     "execution_count": 32,
     "metadata": {},
     "output_type": "execute_result"
    }
   ],
   "source": [
    "sigma2_residual = s2_residual / (n - k)\n",
    "sigma2_residual"
   ]
  },
  {
   "cell_type": "code",
   "execution_count": 33,
   "metadata": {},
   "outputs": [
    {
     "data": {
      "text/plain": [
       "23.651666396459362"
      ]
     },
     "execution_count": 33,
     "metadata": {},
     "output_type": "execute_result"
    }
   ],
   "source": [
    "F_h = sigma2_f / sigma2_residual\n",
    "F_h"
   ]
  },
  {
   "cell_type": "code",
   "execution_count": 34,
   "metadata": {},
   "outputs": [
    {
     "data": {
      "text/plain": [
       "0.01095566998168918"
      ]
     },
     "execution_count": 34,
     "metadata": {},
     "output_type": "execute_result"
    }
   ],
   "source": [
    "eta2 = s2_f / s2\n",
    "eta2"
   ]
  },
  {
   "cell_type": "markdown",
   "metadata": {},
   "source": [
    "## Вывод"
   ]
  },
  {
   "cell_type": "markdown",
   "metadata": {},
   "source": [
    "Выборки игр из 11 жанров и их прибыль не имеют статистистически значимых отличий"
   ]
  },
  {
   "cell_type": "code",
   "execution_count": null,
   "metadata": {},
   "outputs": [],
   "source": []
  },
  {
   "cell_type": "code",
   "execution_count": null,
   "metadata": {},
   "outputs": [],
   "source": []
  }
 ],
 "metadata": {
  "kernelspec": {
   "display_name": "Python 3",
   "language": "python",
   "name": "python3"
  },
  "language_info": {
   "codemirror_mode": {
    "name": "ipython",
    "version": 3
   },
   "file_extension": ".py",
   "mimetype": "text/x-python",
   "name": "python",
   "nbconvert_exporter": "python",
   "pygments_lexer": "ipython3",
   "version": "3.7.2"
  }
 },
 "nbformat": 4,
 "nbformat_minor": 2
}
